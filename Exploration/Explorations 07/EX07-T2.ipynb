{
 "cells": [
  {
   "cell_type": "markdown",
   "id": "b550ad0b",
   "metadata": {},
   "source": [
    "# 10. 트랜스포머로 만드는 대화형 챗봇\n",
    "\n",
    "- 평가기준\n",
    "1. 한국어 전처리를 통해 학습 데이터셋 구축\n",
    ": 공백, 특수문자처리, 토크나이징, 병렬 데이터 구축\n",
    "2. 트랜스포머 모델을 구현하여 한국어 챗봇 모델 학습 정상적 진행\n",
    ": 구현한 트랜스포머 모델이 한국어 병렬 데이터 학습 시 안정적 수렴\n",
    "3. 한국어 입력 문장에 대해 한국어로 대답하는 함수 구현\n",
    ": 한국어 입력 문장 맥락에 맞는 한국어로 답변 리턴"
   ]
  },
  {
   "cell_type": "markdown",
   "id": "6e1af7b8",
   "metadata": {},
   "source": [
    "#### 라이브러리 import"
   ]
  },
  {
   "cell_type": "code",
   "execution_count": 1,
   "id": "55eec365",
   "metadata": {},
   "outputs": [],
   "source": [
    "import tensorflow as tf\n",
    "import tensorflow_datasets as tfds\n",
    "import os\n",
    "import re\n",
    "import csv\n",
    "import numpy as np\n",
    "import matplotlib.pyplot as plt"
   ]
  },
  {
   "cell_type": "markdown",
   "id": "7febbd7b",
   "metadata": {},
   "source": [
    "## Step 1. 데이터 수집하기\n",
    "\n",
    "- cloud shell을 통한 다운로드를 진행함. \n",
    "- 데이터 출처 : https://github.com/songys/Chatbot_data/blob/master/ChatbotData.csv"
   ]
  },
  {
   "cell_type": "code",
   "execution_count": 2,
   "id": "7dbb50c1",
   "metadata": {},
   "outputs": [],
   "source": [
    "# CSV 파일을 다운로드하고 압축 해제\n",
    "path_to_csv = tf.keras.utils.get_file(\n",
    "    'ChatbotData.csv', \n",
    "    origin='https://github.com/songys/Chatbot_data/raw/master/ChatbotData.csv')"
   ]
  },
  {
   "cell_type": "markdown",
   "id": "5e336af8",
   "metadata": {},
   "source": [
    "# Step 2. 데이터 전처리하기"
   ]
  },
  {
   "cell_type": "code",
   "execution_count": 3,
   "id": "81391140",
   "metadata": {},
   "outputs": [
    {
     "name": "stdout",
     "output_type": "stream",
     "text": [
      "50000\n"
     ]
    }
   ],
   "source": [
    "# 사용할 샘플의 최대 개수\n",
    "MAX_SAMPLES = 50000\n",
    "print(MAX_SAMPLES)"
   ]
  },
  {
   "cell_type": "markdown",
   "id": "e92ce939",
   "metadata": {},
   "source": [
    "### 한글 전처리를 위한 함수 수정\n",
    "- 영문 전처리에서 사용하던 소문자화 부분을 제외함. 공백 제거만 사용.\n",
    "- 구두점 사이 거리를 만드는 코드 그대로 사용\n",
    "- 구두점 제외 문자열 추출 과정에서 한국어 포함"
   ]
  },
  {
   "cell_type": "code",
   "execution_count": 4,
   "id": "55f1b9d2",
   "metadata": {},
   "outputs": [],
   "source": [
    "# 전처리 함수\n",
    "def preprocess_sentence(sentence):\n",
    "    # 공백 제거\n",
    "    sentence = sentence.strip()\n",
    "    \n",
    "    # 구두점과 단어 사이의 거리를 만듦\n",
    "    sentence = re.sub(r\"([?.!,])\", r\" \\1 \", sentence)\n",
    "    sentence = re.sub(r'[\" \"]+', \" \", sentence)\n",
    "    \n",
    "    # 구두점 제외 문자열 추출 (한국어, 영어, 숫자만 남김)\n",
    "    sentence = re.sub(\"[^가-힣a-zA-Z0-9?.!,]+\", \" \", sentence)\n",
    "    sentence = sentence.strip()\n",
    "    \n",
    "    # 연속된 ㅋ, ㅎ, ㅠ 정규화 - 승환님 참고 \n",
    "    sentence = re.sub(r'ㅋ{2,}', 'ㅋㅋ', sentence)\n",
    "    sentence = re.sub(r'ㅎ{2,}', 'ㅎㅎ', sentence)\n",
    "    sentence = re.sub(r'ㅠ{2,}', 'ㅠㅠ', sentence)\n",
    "    return sentence"
   ]
  },
  {
   "cell_type": "code",
   "execution_count": 5,
   "id": "3501f601",
   "metadata": {},
   "outputs": [],
   "source": [
    "# 질문과 답변 데이터를 로드하고 전처리하는 함수\n",
    "def load_conversations():\n",
    "    inputs, outputs = [], []\n",
    "    \n",
    "    # CSV 파일 열기\n",
    "    with open(path_to_csv, 'r', encoding='utf-8') as file:\n",
    "        reader = csv.reader(file)\n",
    "        next(reader)  # 첫 번째 줄(헤더)을 건너뜀\n",
    "        \n",
    "        for row in reader:\n",
    "            # 각 행에서 질문과 답변을 추출\n",
    "            question, answer = row[0], row[1]\n",
    "            \n",
    "            # 전처리 함수를 질문과 답변에 적용\n",
    "            inputs.append(preprocess_sentence(question))\n",
    "            outputs.append(preprocess_sentence(answer))\n",
    "            \n",
    "            # 최대 샘플 수만큼 데이터를 가져옴\n",
    "            if len(inputs) >= MAX_SAMPLES:\n",
    "                break\n",
    "\n",
    "    return inputs, outputs"
   ]
  },
  {
   "cell_type": "code",
   "execution_count": 6,
   "id": "69728330",
   "metadata": {},
   "outputs": [
    {
     "name": "stdout",
     "output_type": "stream",
     "text": [
      "전체 샘플 수 : 11823\n",
      "전체 샘플 수 : 11823\n"
     ]
    }
   ],
   "source": [
    "# 데이터를 로드하고 전처리하여 질문을 questions, 답변을 answers에 저장\n",
    "questions, answers = load_conversations()\n",
    "print('전체 샘플 수 :', len(questions))\n",
    "print('전체 샘플 수 :', len(answers))"
   ]
  },
  {
   "cell_type": "code",
   "execution_count": 7,
   "id": "099b4b6a",
   "metadata": {
    "scrolled": true
   },
   "outputs": [
    {
     "name": "stdout",
     "output_type": "stream",
     "text": [
      "전처리 후의 22번째 질문 샘플: 가스비 장난 아님\n",
      "전처리 후의 22번째 답변 샘플: 다음 달에는 더 절약해봐요 .\n"
     ]
    }
   ],
   "source": [
    "print('전처리 후의 22번째 질문 샘플: {}'.format(questions[21]))\n",
    "print('전처리 후의 22번째 답변 샘플: {}'.format(answers[21]))"
   ]
  },
  {
   "cell_type": "markdown",
   "id": "f2215c1e",
   "metadata": {},
   "source": [
    "## Step3. SubwordTextEncoder 사용하기"
   ]
  },
  {
   "cell_type": "code",
   "execution_count": 8,
   "id": "77820784",
   "metadata": {},
   "outputs": [
    {
     "name": "stdout",
     "output_type": "stream",
     "text": [
      "살짝 오래 걸릴 수 있어요. 스트레칭 한 번 해볼까요? 👐\n",
      "슝=3 \n"
     ]
    }
   ],
   "source": [
    "import tensorflow_datasets as tfds\n",
    "print(\"살짝 오래 걸릴 수 있어요. 스트레칭 한 번 해볼까요? 👐\")\n",
    "\n",
    "# 질문과 답변 데이터셋에 대해서 Vocabulary 생성\n",
    "tokenizer = tfds.deprecated.text.SubwordTextEncoder.build_from_corpus(questions + answers, target_vocab_size=2**13)\n",
    "print(\"슝=3 \")"
   ]
  },
  {
   "cell_type": "code",
   "execution_count": 9,
   "id": "e23a420a",
   "metadata": {},
   "outputs": [
    {
     "name": "stdout",
     "output_type": "stream",
     "text": [
      "슝=3\n"
     ]
    }
   ],
   "source": [
    "# 시작 토큰과 종료 토큰에 고유한 정수를 부여합니다.\n",
    "START_TOKEN, END_TOKEN = [tokenizer.vocab_size], [tokenizer.vocab_size + 1]\n",
    "print(\"슝=3\")"
   ]
  },
  {
   "cell_type": "code",
   "execution_count": 10,
   "id": "ed0cda10",
   "metadata": {},
   "outputs": [
    {
     "name": "stdout",
     "output_type": "stream",
     "text": [
      "START_TOKEN의 번호 : [8162]\n",
      "END_TOKEN의 번호 : [8163]\n"
     ]
    }
   ],
   "source": [
    "print('START_TOKEN의 번호 :' ,[tokenizer.vocab_size])\n",
    "print('END_TOKEN의 번호 :' ,[tokenizer.vocab_size + 1])"
   ]
  },
  {
   "cell_type": "code",
   "execution_count": 11,
   "id": "769a224c",
   "metadata": {},
   "outputs": [
    {
     "name": "stdout",
     "output_type": "stream",
     "text": [
      "8164\n"
     ]
    }
   ],
   "source": [
    "# 시작 토큰과 종료 토큰을 고려하여 +2를 하여 단어장의 크기를 산정합니다.\n",
    "VOCAB_SIZE = tokenizer.vocab_size + 2\n",
    "print(VOCAB_SIZE)"
   ]
  },
  {
   "cell_type": "code",
   "execution_count": 12,
   "id": "793f7814",
   "metadata": {},
   "outputs": [
    {
     "name": "stdout",
     "output_type": "stream",
     "text": [
      "정수 인코딩 후의 21번째 질문 샘플: [5757, 610, 2486, 4158]\n",
      "정수 인코딩 후의 21번째 답변 샘플: [2355, 7502, 7, 6266, 97, 1]\n"
     ]
    }
   ],
   "source": [
    "# 임의의 22번째 샘플에 대해서 정수 인코딩 작업을 수행.\n",
    "# 각 토큰을 고유한 정수로 변환\n",
    "print('정수 인코딩 후의 21번째 질문 샘플: {}'.format(tokenizer.encode(questions[21])))\n",
    "print('정수 인코딩 후의 21번째 답변 샘플: {}'.format(tokenizer.encode(answers[21])))"
   ]
  },
  {
   "cell_type": "code",
   "execution_count": 13,
   "id": "13e67097",
   "metadata": {},
   "outputs": [
    {
     "name": "stdout",
     "output_type": "stream",
     "text": [
      "50\n"
     ]
    }
   ],
   "source": [
    "# 샘플의 최대 허용 길이 또는 패딩 후의 최종 길이\n",
    "MAX_LENGTH = 50\n",
    "print(MAX_LENGTH)"
   ]
  },
  {
   "cell_type": "code",
   "execution_count": 14,
   "id": "57a5d3e8",
   "metadata": {},
   "outputs": [
    {
     "name": "stdout",
     "output_type": "stream",
     "text": [
      "슝=3\n"
     ]
    }
   ],
   "source": [
    "# 정수 인코딩, 최대 길이를 초과하는 샘플 제거, 패딩\n",
    "def tokenize_and_filter(inputs, outputs):\n",
    "  tokenized_inputs, tokenized_outputs = [], []\n",
    "  \n",
    "  for (sentence1, sentence2) in zip(inputs, outputs):\n",
    "    # 정수 인코딩 과정에서 시작 토큰과 종료 토큰을 추가\n",
    "    sentence1 = START_TOKEN + tokenizer.encode(sentence1) + END_TOKEN\n",
    "    sentence2 = START_TOKEN + tokenizer.encode(sentence2) + END_TOKEN\n",
    "\n",
    "    # 최대 길이 40 이하인 경우에만 데이터셋으로 허용\n",
    "    if len(sentence1) <= MAX_LENGTH and len(sentence2) <= MAX_LENGTH:\n",
    "      tokenized_inputs.append(sentence1)\n",
    "      tokenized_outputs.append(sentence2)\n",
    "  \n",
    "  # 최대 길이 40으로 모든 데이터셋을 패딩\n",
    "  tokenized_inputs = tf.keras.preprocessing.sequence.pad_sequences(\n",
    "      tokenized_inputs, maxlen=MAX_LENGTH, padding='post')\n",
    "  tokenized_outputs = tf.keras.preprocessing.sequence.pad_sequences(\n",
    "      tokenized_outputs, maxlen=MAX_LENGTH, padding='post')\n",
    "  \n",
    "  return tokenized_inputs, tokenized_outputs\n",
    "print(\"슝=3\")"
   ]
  },
  {
   "cell_type": "code",
   "execution_count": 15,
   "id": "e8bf5cbb",
   "metadata": {},
   "outputs": [
    {
     "name": "stdout",
     "output_type": "stream",
     "text": [
      "단어장의 크기 : 8164\n",
      "필터링 후의 질문 샘플 개수: 11823\n",
      "필터링 후의 답변 샘플 개수: 11823\n"
     ]
    }
   ],
   "source": [
    "questions, answers = tokenize_and_filter(questions, answers)\n",
    "print('단어장의 크기 :',(VOCAB_SIZE))\n",
    "print('필터링 후의 질문 샘플 개수: {}'.format(len(questions)))\n",
    "print('필터링 후의 답변 샘플 개수: {}'.format(len(answers)))"
   ]
  },
  {
   "cell_type": "code",
   "execution_count": 16,
   "id": "dd96b7e7",
   "metadata": {},
   "outputs": [
    {
     "name": "stdout",
     "output_type": "stream",
     "text": [
      "슝=3\n"
     ]
    }
   ],
   "source": [
    "BATCH_SIZE = 128\n",
    "BUFFER_SIZE = 20000\n",
    "\n",
    "# 디코더는 이전의 target을 다음의 input으로 사용합니다.\n",
    "# 이에 따라 outputs에서는 START_TOKEN을 제거하겠습니다.\n",
    "dataset = tf.data.Dataset.from_tensor_slices((\n",
    "    {\n",
    "        'inputs': questions,\n",
    "        'dec_inputs': answers[:, :-1]\n",
    "    },\n",
    "    {\n",
    "        'outputs': answers[:, 1:]\n",
    "    },\n",
    "))\n",
    "\n",
    "dataset = dataset.cache()\n",
    "dataset = dataset.shuffle(BUFFER_SIZE)\n",
    "dataset = dataset.batch(BATCH_SIZE)\n",
    "dataset = dataset.prefetch(tf.data.experimental.AUTOTUNE)\n",
    "print(\"슝=3\")"
   ]
  },
  {
   "cell_type": "markdown",
   "id": "baba7c8f",
   "metadata": {},
   "source": [
    "## Step 4. 모델 구성하기"
   ]
  },
  {
   "cell_type": "code",
   "execution_count": 17,
   "id": "263b58dc",
   "metadata": {},
   "outputs": [
    {
     "name": "stdout",
     "output_type": "stream",
     "text": [
      "슝=3\n"
     ]
    }
   ],
   "source": [
    "def transformer(vocab_size,\n",
    "                num_layers,\n",
    "                units,\n",
    "                d_model,\n",
    "                num_heads,\n",
    "                dropout,\n",
    "                name=\"transformer\"):\n",
    "  inputs = tf.keras.Input(shape=(None,), name=\"inputs\")\n",
    "  dec_inputs = tf.keras.Input(shape=(None,), name=\"dec_inputs\")\n",
    "\n",
    "  # 인코더에서 패딩을 위한 마스크\n",
    "  enc_padding_mask = tf.keras.layers.Lambda(\n",
    "      create_padding_mask, output_shape=(1, 1, None),\n",
    "      name='enc_padding_mask')(inputs)\n",
    "\n",
    "  # 디코더에서 미래의 토큰을 마스크 하기 위해서 사용합니다.\n",
    "  # 내부적으로 패딩 마스크도 포함되어져 있습니다.\n",
    "  look_ahead_mask = tf.keras.layers.Lambda(\n",
    "      create_look_ahead_mask,\n",
    "      output_shape=(1, None, None),\n",
    "      name='look_ahead_mask')(dec_inputs)\n",
    "\n",
    "  # 두 번째 어텐션 블록에서 인코더의 벡터들을 마스킹\n",
    "  # 디코더에서 패딩을 위한 마스크\n",
    "  dec_padding_mask = tf.keras.layers.Lambda(\n",
    "      create_padding_mask, output_shape=(1, 1, None),\n",
    "      name='dec_padding_mask')(inputs)\n",
    "\n",
    "  # 인코더\n",
    "  enc_outputs = encoder(\n",
    "      vocab_size=vocab_size,\n",
    "      num_layers=num_layers,\n",
    "      units=units,\n",
    "      d_model=d_model,\n",
    "      num_heads=num_heads,\n",
    "      dropout=dropout,\n",
    "  )(inputs=[inputs, enc_padding_mask])\n",
    "\n",
    "  # 디코더\n",
    "  dec_outputs = decoder(\n",
    "      vocab_size=vocab_size,\n",
    "      num_layers=num_layers,\n",
    "      units=units,\n",
    "      d_model=d_model,\n",
    "      num_heads=num_heads,\n",
    "      dropout=dropout,\n",
    "  )(inputs=[dec_inputs, enc_outputs, look_ahead_mask, dec_padding_mask])\n",
    "\n",
    "  # 완전연결층\n",
    "  outputs = tf.keras.layers.Dense(units=vocab_size, name=\"outputs\")(dec_outputs)\n",
    "\n",
    "  return tf.keras.Model(inputs=[inputs, dec_inputs], outputs=outputs, name=name)\n",
    "print(\"슝=3\")"
   ]
  },
  {
   "cell_type": "code",
   "execution_count": 18,
   "id": "e6efebba",
   "metadata": {},
   "outputs": [
    {
     "name": "stdout",
     "output_type": "stream",
     "text": [
      "슝=3\n"
     ]
    }
   ],
   "source": [
    "# 포지셔널 인코딩 레이어\n",
    "class PositionalEncoding(tf.keras.layers.Layer):\n",
    "\n",
    "  def __init__(self, position, d_model):\n",
    "    super(PositionalEncoding, self).__init__()\n",
    "    self.pos_encoding = self.positional_encoding(position, d_model)\n",
    "\n",
    "  def get_angles(self, position, i, d_model):\n",
    "    angles = 1 / tf.pow(10000, (2 * (i // 2)) / tf.cast(d_model, tf.float32))\n",
    "    return position * angles\n",
    "\n",
    "  def positional_encoding(self, position, d_model):\n",
    "    # 각도 배열 생성\n",
    "    angle_rads = self.get_angles(\n",
    "        position=tf.range(position, dtype=tf.float32)[:, tf.newaxis],\n",
    "        i=tf.range(d_model, dtype=tf.float32)[tf.newaxis, :],\n",
    "        d_model=d_model)\n",
    "\n",
    "    # 배열의 짝수 인덱스에는 sin 함수 적용\n",
    "    sines = tf.math.sin(angle_rads[:, 0::2])\n",
    "    # 배열의 홀수 인덱스에는 cosine 함수 적용\n",
    "    cosines = tf.math.cos(angle_rads[:, 1::2])\n",
    "\n",
    "    # sin과 cosine이 교차되도록 재배열\n",
    "    pos_encoding = tf.stack([sines, cosines], axis=0)\n",
    "    pos_encoding = tf.transpose(pos_encoding,[1, 2, 0]) \n",
    "    pos_encoding = tf.reshape(pos_encoding, [position, d_model])\n",
    "\n",
    "    pos_encoding = pos_encoding[tf.newaxis, ...]\n",
    "    return tf.cast(pos_encoding, tf.float32)\n",
    "\n",
    "  def call(self, inputs):\n",
    "    return inputs + self.pos_encoding[:, :tf.shape(inputs)[1], :]\n",
    "\n",
    "print(\"슝=3\")"
   ]
  },
  {
   "cell_type": "markdown",
   "id": "650b3449",
   "metadata": {},
   "source": [
    "- scaled dot product attention"
   ]
  },
  {
   "cell_type": "code",
   "execution_count": 19,
   "id": "0b73bec9",
   "metadata": {},
   "outputs": [
    {
     "name": "stdout",
     "output_type": "stream",
     "text": [
      "슝=3\n"
     ]
    }
   ],
   "source": [
    "# 스케일드 닷 프로덕트 어텐션 함수\n",
    "def scaled_dot_product_attention(query, key, value, mask):\n",
    "  # 어텐션 가중치는 Q와 K의 닷 프로덕트\n",
    "  matmul_qk = tf.matmul(query, key, transpose_b=True)\n",
    "\n",
    "  # 가중치를 정규화\n",
    "  depth = tf.cast(tf.shape(key)[-1], tf.float32)\n",
    "  logits = matmul_qk / tf.math.sqrt(depth)\n",
    "\n",
    "  # 패딩에 마스크 추가\n",
    "  if mask is not None:\n",
    "    logits += (mask * -1e9)\n",
    "\n",
    "  # softmax적용\n",
    "  attention_weights = tf.nn.softmax(logits, axis=-1)\n",
    "\n",
    "  # 최종 어텐션은 가중치와 V의 닷 프로덕트\n",
    "  output = tf.matmul(attention_weights, value)\n",
    "  return output\n",
    "\n",
    "print(\"슝=3\")"
   ]
  },
  {
   "cell_type": "markdown",
   "id": "66f53039",
   "metadata": {},
   "source": [
    "- multihead attention"
   ]
  },
  {
   "cell_type": "code",
   "execution_count": 20,
   "id": "1427a99e",
   "metadata": {},
   "outputs": [
    {
     "name": "stdout",
     "output_type": "stream",
     "text": [
      "슝=3\n"
     ]
    }
   ],
   "source": [
    "class MultiHeadAttention(tf.keras.layers.Layer):\n",
    "\n",
    "  def __init__(self, d_model, num_heads, name=\"multi_head_attention\"):\n",
    "    super(MultiHeadAttention, self).__init__(name=name)\n",
    "    self.num_heads = num_heads\n",
    "    self.d_model = d_model\n",
    "\n",
    "    assert d_model % self.num_heads == 0\n",
    "\n",
    "    self.depth = d_model // self.num_heads\n",
    "\n",
    "    self.query_dense = tf.keras.layers.Dense(units=d_model)\n",
    "    self.key_dense = tf.keras.layers.Dense(units=d_model)\n",
    "    self.value_dense = tf.keras.layers.Dense(units=d_model)\n",
    "\n",
    "    self.dense = tf.keras.layers.Dense(units=d_model)\n",
    "\n",
    "  def split_heads(self, inputs, batch_size):\n",
    "    inputs = tf.reshape(\n",
    "        inputs, shape=(batch_size, -1, self.num_heads, self.depth))\n",
    "    return tf.transpose(inputs, perm=[0, 2, 1, 3])\n",
    "\n",
    "  def call(self, inputs):\n",
    "    query, key, value, mask = inputs['query'], inputs['key'], inputs[\n",
    "        'value'], inputs['mask']\n",
    "    batch_size = tf.shape(query)[0]\n",
    "\n",
    "    # Q, K, V에 각각 Dense를 적용합니다\n",
    "    query = self.query_dense(query)\n",
    "    key = self.key_dense(key)\n",
    "    value = self.value_dense(value)\n",
    "\n",
    "    # 병렬 연산을 위한 머리를 여러 개 만듭니다\n",
    "    query = self.split_heads(query, batch_size)\n",
    "    key = self.split_heads(key, batch_size)\n",
    "    value = self.split_heads(value, batch_size)\n",
    "\n",
    "    # 스케일드 닷 프로덕트 어텐션 함수\n",
    "    scaled_attention = scaled_dot_product_attention(query, key, value, mask)\n",
    "\n",
    "    scaled_attention = tf.transpose(scaled_attention, perm=[0, 2, 1, 3])\n",
    "\n",
    "    # 어텐션 연산 후에 각 결과를 다시 연결(concatenate)합니다\n",
    "    concat_attention = tf.reshape(scaled_attention,\n",
    "                                  (batch_size, -1, self.d_model))\n",
    "\n",
    "    # 최종 결과에도 Dense를 한 번 더 적용합니다\n",
    "    outputs = self.dense(concat_attention)\n",
    "\n",
    "    return outputs\n",
    "print(\"슝=3\")"
   ]
  },
  {
   "cell_type": "markdown",
   "id": "c7d23667",
   "metadata": {},
   "source": [
    "- look ahead mask 사용"
   ]
  },
  {
   "cell_type": "code",
   "execution_count": 21,
   "id": "d440f6a2",
   "metadata": {},
   "outputs": [
    {
     "name": "stdout",
     "output_type": "stream",
     "text": [
      "슝=3\n"
     ]
    }
   ],
   "source": [
    "def create_padding_mask(x):\n",
    "  mask = tf.cast(tf.math.equal(x, 0), tf.float32)\n",
    "  # (batch_size, 1, 1, sequence length)\n",
    "  return mask[:, tf.newaxis, tf.newaxis, :]\n",
    "print(\"슝=3\")"
   ]
  },
  {
   "cell_type": "code",
   "execution_count": 22,
   "id": "03e34f51",
   "metadata": {},
   "outputs": [
    {
     "name": "stdout",
     "output_type": "stream",
     "text": [
      "슝=3\n"
     ]
    }
   ],
   "source": [
    "def create_look_ahead_mask(x):\n",
    "  seq_len = tf.shape(x)[1]\n",
    "  look_ahead_mask = 1 - tf.linalg.band_part(tf.ones((seq_len, seq_len)), -1, 0)\n",
    "  padding_mask = create_padding_mask(x)\n",
    "  return tf.maximum(look_ahead_mask, padding_mask)\n",
    "print(\"슝=3\")"
   ]
  },
  {
   "cell_type": "markdown",
   "id": "07477549",
   "metadata": {},
   "source": [
    "- encoder 사용"
   ]
  },
  {
   "cell_type": "code",
   "execution_count": 23,
   "id": "da6417e8",
   "metadata": {},
   "outputs": [
    {
     "name": "stdout",
     "output_type": "stream",
     "text": [
      "슝=3\n"
     ]
    }
   ],
   "source": [
    "# 인코더 하나의 레이어를 함수로 구현.\n",
    "# 이 하나의 레이어 안에는 두 개의 서브 레이어가 존재합니다.\n",
    "def encoder_layer(units, d_model, num_heads, dropout, name=\"encoder_layer\"):\n",
    "  inputs = tf.keras.Input(shape=(None, d_model), name=\"inputs\")\n",
    "\n",
    "  # 패딩 마스크 사용\n",
    "  padding_mask = tf.keras.Input(shape=(1, 1, None), name=\"padding_mask\")\n",
    "\n",
    "  # 첫 번째 서브 레이어 : 멀티 헤드 어텐션 수행 (셀프 어텐션)\n",
    "  attention = MultiHeadAttention(\n",
    "      d_model, num_heads, name=\"attention\")({\n",
    "          'query': inputs,\n",
    "          'key': inputs,\n",
    "          'value': inputs,\n",
    "          'mask': padding_mask\n",
    "      })\n",
    "\n",
    "  # 어텐션의 결과는 Dropout과 Layer Normalization이라는 훈련을 돕는 테크닉을 수행\n",
    "  attention = tf.keras.layers.Dropout(rate=dropout)(attention)\n",
    "  attention = tf.keras.layers.LayerNormalization(\n",
    "      epsilon=1e-6)(inputs + attention)\n",
    "\n",
    "  # 두 번째 서브 레이어 : 2개의 완전연결층\n",
    "  outputs = tf.keras.layers.Dense(units=units, activation='relu')(attention)\n",
    "  outputs = tf.keras.layers.Dense(units=d_model)(outputs)\n",
    "\n",
    "  # 완전연결층의 결과는 Dropout과 LayerNormalization이라는 훈련을 돕는 테크닉을 수행\n",
    "  outputs = tf.keras.layers.Dropout(rate=dropout)(outputs)\n",
    "  outputs = tf.keras.layers.LayerNormalization(\n",
    "      epsilon=1e-6)(attention + outputs)\n",
    "\n",
    "  return tf.keras.Model(\n",
    "      inputs=[inputs, padding_mask], outputs=outputs, name=name)\n",
    "print(\"슝=3\")"
   ]
  },
  {
   "cell_type": "code",
   "execution_count": 24,
   "id": "e4c6be62",
   "metadata": {
    "scrolled": false
   },
   "outputs": [
    {
     "name": "stdout",
     "output_type": "stream",
     "text": [
      "슝=3\n"
     ]
    }
   ],
   "source": [
    "def encoder(vocab_size,\n",
    "            num_layers,\n",
    "            units,\n",
    "            d_model,\n",
    "            num_heads,\n",
    "            dropout,\n",
    "            name=\"encoder\"):\n",
    "  inputs = tf.keras.Input(shape=(None,), name=\"inputs\")\n",
    "\n",
    "  # 패딩 마스크 사용\n",
    "  padding_mask = tf.keras.Input(shape=(1, 1, None), name=\"padding_mask\")\n",
    "\n",
    "  # 임베딩 레이어\n",
    "  embeddings = tf.keras.layers.Embedding(vocab_size, d_model)(inputs)\n",
    "  embeddings *= tf.math.sqrt(tf.cast(d_model, tf.float32))\n",
    "\n",
    "  # 포지셔널 인코딩\n",
    "  embeddings = PositionalEncoding(vocab_size, d_model)(embeddings)\n",
    "\n",
    "  outputs = tf.keras.layers.Dropout(rate=dropout)(embeddings)\n",
    "\n",
    "  # num_layers만큼 쌓아올린 인코더의 층.\n",
    "  for i in range(num_layers):\n",
    "    outputs = encoder_layer(\n",
    "        units=units,\n",
    "        d_model=d_model,\n",
    "        num_heads=num_heads,\n",
    "        dropout=dropout,\n",
    "        name=\"encoder_layer_{}\".format(i),\n",
    "    )([outputs, padding_mask])\n",
    "\n",
    "  return tf.keras.Model(\n",
    "      inputs=[inputs, padding_mask], outputs=outputs, name=name)\n",
    "print(\"슝=3\")"
   ]
  },
  {
   "cell_type": "markdown",
   "id": "2d458e5d",
   "metadata": {},
   "source": [
    "- decoder 사용"
   ]
  },
  {
   "cell_type": "code",
   "execution_count": 25,
   "id": "8a4d88f2",
   "metadata": {},
   "outputs": [
    {
     "name": "stdout",
     "output_type": "stream",
     "text": [
      "슝=3\n"
     ]
    }
   ],
   "source": [
    "# 디코더 하나의 레이어를 함수로 구현.\n",
    "# 이 하나의 레이어 안에는 세 개의 서브 레이어가 존재합니다.\n",
    "def decoder_layer(units, d_model, num_heads, dropout, name=\"decoder_layer\"):\n",
    "  inputs = tf.keras.Input(shape=(None, d_model), name=\"inputs\")\n",
    "  enc_outputs = tf.keras.Input(shape=(None, d_model), name=\"encoder_outputs\")\n",
    "  look_ahead_mask = tf.keras.Input(\n",
    "      shape=(1, None, None), name=\"look_ahead_mask\")\n",
    "  padding_mask = tf.keras.Input(shape=(1, 1, None), name='padding_mask')\n",
    "\n",
    "  # 첫 번째 서브 레이어 : 멀티 헤드 어텐션 수행 (셀프 어텐션)\n",
    "  attention1 = MultiHeadAttention(\n",
    "      d_model, num_heads, name=\"attention_1\")(inputs={\n",
    "          'query': inputs,\n",
    "          'key': inputs,\n",
    "          'value': inputs,\n",
    "          'mask': look_ahead_mask\n",
    "      })\n",
    "\n",
    "  # 멀티 헤드 어텐션의 결과는 LayerNormalization이라는 훈련을 돕는 테크닉을 수행\n",
    "  attention1 = tf.keras.layers.LayerNormalization(\n",
    "      epsilon=1e-6)(attention1 + inputs)\n",
    "\n",
    "  # 두 번째 서브 레이어 : 마스크드 멀티 헤드 어텐션 수행 (인코더-디코더 어텐션)\n",
    "  attention2 = MultiHeadAttention(\n",
    "      d_model, num_heads, name=\"attention_2\")(inputs={\n",
    "          'query': attention1,\n",
    "          'key': enc_outputs,\n",
    "          'value': enc_outputs,\n",
    "          'mask': padding_mask\n",
    "      })\n",
    "\n",
    "  # 마스크드 멀티 헤드 어텐션의 결과는\n",
    "  # Dropout과 LayerNormalization이라는 훈련을 돕는 테크닉을 수행\n",
    "  attention2 = tf.keras.layers.Dropout(rate=dropout)(attention2)\n",
    "  attention2 = tf.keras.layers.LayerNormalization(\n",
    "      epsilon=1e-6)(attention2 + attention1)\n",
    "\n",
    "  # 세 번째 서브 레이어 : 2개의 완전연결층\n",
    "  outputs = tf.keras.layers.Dense(units=units, activation='relu')(attention2)\n",
    "  outputs = tf.keras.layers.Dense(units=d_model)(outputs)\n",
    "\n",
    "  # 완전연결층의 결과는 Dropout과 LayerNormalization 수행\n",
    "  outputs = tf.keras.layers.Dropout(rate=dropout)(outputs)\n",
    "  outputs = tf.keras.layers.LayerNormalization(\n",
    "      epsilon=1e-6)(outputs + attention2)\n",
    "\n",
    "  return tf.keras.Model(\n",
    "      inputs=[inputs, enc_outputs, look_ahead_mask, padding_mask],\n",
    "      outputs=outputs,\n",
    "      name=name)\n",
    "print(\"슝=3\")"
   ]
  },
  {
   "cell_type": "code",
   "execution_count": 26,
   "id": "5b09e116",
   "metadata": {},
   "outputs": [
    {
     "name": "stdout",
     "output_type": "stream",
     "text": [
      "슝=3\n"
     ]
    }
   ],
   "source": [
    "def decoder(vocab_size,\n",
    "            num_layers,\n",
    "            units,\n",
    "            d_model,\n",
    "            num_heads,\n",
    "            dropout,\n",
    "            name='decoder'):\n",
    "  inputs = tf.keras.Input(shape=(None,), name='inputs')\n",
    "  enc_outputs = tf.keras.Input(shape=(None, d_model), name='encoder_outputs')\n",
    "  look_ahead_mask = tf.keras.Input(\n",
    "      shape=(1, None, None), name='look_ahead_mask')\n",
    "\n",
    "  # 패딩 마스크\n",
    "  padding_mask = tf.keras.Input(shape=(1, 1, None), name='padding_mask')\n",
    "  \n",
    "  # 임베딩 레이어\n",
    "  embeddings = tf.keras.layers.Embedding(vocab_size, d_model)(inputs)\n",
    "  embeddings *= tf.math.sqrt(tf.cast(d_model, tf.float32))\n",
    "\n",
    "  # 포지셔널 인코딩\n",
    "  embeddings = PositionalEncoding(vocab_size, d_model)(embeddings)\n",
    "\n",
    "  # Dropout이라는 훈련을 돕는 테크닉을 수행\n",
    "  outputs = tf.keras.layers.Dropout(rate=dropout)(embeddings)\n",
    "\n",
    "  for i in range(num_layers):\n",
    "    outputs = decoder_layer(\n",
    "        units=units,\n",
    "        d_model=d_model,\n",
    "        num_heads=num_heads,\n",
    "        dropout=dropout,\n",
    "        name='decoder_layer_{}'.format(i),\n",
    "    )(inputs=[outputs, enc_outputs, look_ahead_mask, padding_mask])\n",
    "\n",
    "  return tf.keras.Model(\n",
    "      inputs=[inputs, enc_outputs, look_ahead_mask, padding_mask],\n",
    "      outputs=outputs,\n",
    "      name=name)\n",
    "print(\"슝=3\")"
   ]
  },
  {
   "cell_type": "markdown",
   "id": "e2410284",
   "metadata": {},
   "source": [
    "### 모델 생성"
   ]
  },
  {
   "cell_type": "code",
   "execution_count": 27,
   "id": "7cd66627",
   "metadata": {
    "scrolled": true
   },
   "outputs": [
    {
     "name": "stdout",
     "output_type": "stream",
     "text": [
      "Model: \"transformer\"\n",
      "__________________________________________________________________________________________________\n",
      "Layer (type)                    Output Shape         Param #     Connected to                     \n",
      "==================================================================================================\n",
      "inputs (InputLayer)             [(None, None)]       0                                            \n",
      "__________________________________________________________________________________________________\n",
      "dec_inputs (InputLayer)         [(None, None)]       0                                            \n",
      "__________________________________________________________________________________________________\n",
      "enc_padding_mask (Lambda)       (None, 1, 1, None)   0           inputs[0][0]                     \n",
      "__________________________________________________________________________________________________\n",
      "encoder (Functional)            (None, None, 256)    4198400     inputs[0][0]                     \n",
      "                                                                 enc_padding_mask[0][0]           \n",
      "__________________________________________________________________________________________________\n",
      "look_ahead_mask (Lambda)        (None, 1, None, None 0           dec_inputs[0][0]                 \n",
      "__________________________________________________________________________________________________\n",
      "dec_padding_mask (Lambda)       (None, 1, 1, None)   0           inputs[0][0]                     \n",
      "__________________________________________________________________________________________________\n",
      "decoder (Functional)            (None, None, 256)    5253120     dec_inputs[0][0]                 \n",
      "                                                                 encoder[0][0]                    \n",
      "                                                                 look_ahead_mask[0][0]            \n",
      "                                                                 dec_padding_mask[0][0]           \n",
      "__________________________________________________________________________________________________\n",
      "outputs (Dense)                 (None, None, 8164)   2098148     decoder[0][0]                    \n",
      "==================================================================================================\n",
      "Total params: 11,549,668\n",
      "Trainable params: 11,549,668\n",
      "Non-trainable params: 0\n",
      "__________________________________________________________________________________________________\n"
     ]
    }
   ],
   "source": [
    "tf.keras.backend.clear_session()\n",
    "\n",
    "# 하이퍼파라미터\n",
    "NUM_LAYERS = 4 # 인코더와 디코더의 층의 개수\n",
    "D_MODEL = 256 # 인코더와 디코더 내부의 입, 출력의 고정 차원\n",
    "NUM_HEADS = 8 # 멀티 헤드 어텐션에서의 헤드 수 \n",
    "UNITS = 512 # 피드 포워드 신경망의 은닉층의 크기\n",
    "DROPOUT = 0.01 # 드롭아웃의 비율\n",
    "\n",
    "model = transformer(\n",
    "    vocab_size=VOCAB_SIZE,\n",
    "    num_layers=NUM_LAYERS,\n",
    "    units=UNITS,\n",
    "    d_model=D_MODEL,\n",
    "    num_heads=NUM_HEADS,\n",
    "    dropout=DROPOUT)\n",
    "\n",
    "model.summary()"
   ]
  },
  {
   "cell_type": "code",
   "execution_count": 28,
   "id": "a6b13085",
   "metadata": {},
   "outputs": [],
   "source": [
    "model1 = transformer(\n",
    "    vocab_size=VOCAB_SIZE,\n",
    "    num_layers=4,\n",
    "    units=UNITS,\n",
    "    d_model=D_MODEL,\n",
    "    num_heads=NUM_HEADS,\n",
    "    dropout=DROPOUT)\n",
    "\n",
    "model2 = transformer(\n",
    "    vocab_size=VOCAB_SIZE,\n",
    "    num_layers=8,\n",
    "    units=UNITS,\n",
    "    d_model=D_MODEL,\n",
    "    num_heads=NUM_HEADS,\n",
    "    dropout=DROPOUT)\n",
    "\n",
    "model3 = transformer(\n",
    "    vocab_size=VOCAB_SIZE,\n",
    "    num_layers=16,\n",
    "    units=UNITS,\n",
    "    d_model=D_MODEL,\n",
    "    num_heads=NUM_HEADS,\n",
    "    dropout=DROPOUT)"
   ]
  },
  {
   "cell_type": "markdown",
   "id": "3cff2930",
   "metadata": {},
   "source": [
    "### 손실 함수"
   ]
  },
  {
   "cell_type": "code",
   "execution_count": 29,
   "id": "416ac550",
   "metadata": {},
   "outputs": [
    {
     "name": "stdout",
     "output_type": "stream",
     "text": [
      "슝=3\n"
     ]
    }
   ],
   "source": [
    "def loss_function(y_true, y_pred):\n",
    "  y_true = tf.reshape(y_true, shape=(-1, MAX_LENGTH - 1))\n",
    "  \n",
    "  loss = tf.keras.losses.SparseCategoricalCrossentropy(\n",
    "      from_logits=True, reduction='none')(y_true, y_pred)\n",
    "\n",
    "  mask = tf.cast(tf.not_equal(y_true, 0), tf.float32)\n",
    "  loss = tf.multiply(loss, mask)\n",
    "\n",
    "  return tf.reduce_mean(loss)\n",
    "print(\"슝=3\")"
   ]
  },
  {
   "cell_type": "markdown",
   "id": "e250f2c3",
   "metadata": {},
   "source": [
    "### 커스텀된 학습률"
   ]
  },
  {
   "cell_type": "code",
   "execution_count": 34,
   "id": "9a4600ea",
   "metadata": {},
   "outputs": [
    {
     "name": "stdout",
     "output_type": "stream",
     "text": [
      "슝=3\n"
     ]
    }
   ],
   "source": [
    "class CustomSchedule(tf.keras.optimizers.schedules.LearningRateSchedule):\n",
    "\n",
    "  def __init__(self, d_model, warmup_steps=4000):\n",
    "    super(CustomSchedule, self).__init__()\n",
    "\n",
    "    self.d_model = d_model\n",
    "    self.d_model = tf.cast(self.d_model, tf.float32)\n",
    "\n",
    "    self.warmup_steps = warmup_steps\n",
    "\n",
    "  def __call__(self, step):\n",
    "    arg1 = tf.math.rsqrt(step)\n",
    "    arg2 = step * (self.warmup_steps**-1.6)\n",
    "\n",
    "    return tf.math.rsqrt(self.d_model) * tf.math.minimum(arg1, arg2)\n",
    "print(\"슝=3\")"
   ]
  },
  {
   "cell_type": "code",
   "execution_count": 35,
   "id": "75516e23",
   "metadata": {
    "scrolled": true
   },
   "outputs": [
    {
     "data": {
      "text/plain": [
       "Text(0.5, 0, 'Train Step')"
      ]
     },
     "execution_count": 35,
     "metadata": {},
     "output_type": "execute_result"
    },
    {
     "data": {
      "image/png": "[encoded data removed]",
      "text/plain": [
       "<Figure size 432x288 with 1 Axes>"
      ]
     },
     "metadata": {
      "needs_background": "light"
     },
     "output_type": "display_data"
    }
   ],
   "source": [
    "sample_learning_rate = CustomSchedule(d_model=128)\n",
    "\n",
    "plt.plot(sample_learning_rate(tf.range(200000, dtype=tf.float32)))\n",
    "plt.ylabel(\"Learning Rate\")\n",
    "plt.xlabel(\"Train Step\")"
   ]
  },
  {
   "cell_type": "markdown",
   "id": "d515f56a",
   "metadata": {},
   "source": [
    "### 모델 컴파일"
   ]
  },
  {
   "cell_type": "code",
   "execution_count": 36,
   "id": "7e382902",
   "metadata": {},
   "outputs": [
    {
     "name": "stdout",
     "output_type": "stream",
     "text": [
      "슝=3\n"
     ]
    }
   ],
   "source": [
    "learning_rate = CustomSchedule(D_MODEL)\n",
    "\n",
    "optimizer = tf.keras.optimizers.Adam(\n",
    "    learning_rate, beta_1=0.9, beta_2=0.98, epsilon=1e-9)\n",
    "\n",
    "def accuracy(y_true, y_pred):\n",
    "  y_true = tf.reshape(y_true, shape=(-1, MAX_LENGTH - 1))\n",
    "  return tf.keras.metrics.sparse_categorical_accuracy(y_true, y_pred)\n",
    "\n",
    "model1.compile(optimizer=optimizer, loss=loss_function, metrics=[accuracy])\n",
    "print(\"슝=3\")"
   ]
  },
  {
   "cell_type": "markdown",
   "id": "7f3d541c",
   "metadata": {},
   "source": [
    "### 훈련하기\n",
    "- 정확도가 낮게 나오는 이유가 model 복잡도가 낮기 때문이라고 생각했음\n",
    "\n",
    "→ encoder, decoder 층의 깊이를 제어하는 num layer를 4, 8, 16으로 늘려 3개의 모델을 테스트 해봄.\n"
   ]
  },
  {
   "cell_type": "code",
   "execution_count": 37,
   "id": "c7d50a7e",
   "metadata": {
    "scrolled": true
   },
   "outputs": [
    {
     "name": "stdout",
     "output_type": "stream",
     "text": [
      "Epoch 1/50\n",
      "93/93 [==============================] - 28s 173ms/step - loss: 1.2526 - accuracy: 1.8988e-04\n",
      "Epoch 2/50\n",
      "93/93 [==============================] - 16s 175ms/step - loss: 1.2022 - accuracy: 0.0189\n",
      "Epoch 3/50\n",
      "93/93 [==============================] - 16s 176ms/step - loss: 1.1543 - accuracy: 0.0221\n",
      "Epoch 4/50\n",
      "93/93 [==============================] - 17s 178ms/step - loss: 1.1260 - accuracy: 0.0211\n",
      "Epoch 5/50\n",
      "93/93 [==============================] - 17s 179ms/step - loss: 1.0991 - accuracy: 0.0351\n",
      "Epoch 6/50\n",
      "93/93 [==============================] - 16s 177ms/step - loss: 1.0603 - accuracy: 0.0393\n",
      "Epoch 7/50\n",
      "93/93 [==============================] - 16s 177ms/step - loss: 1.0284 - accuracy: 0.0393\n",
      "Epoch 8/50\n",
      "93/93 [==============================] - 16s 177ms/step - loss: 0.9981 - accuracy: 0.0394\n",
      "Epoch 9/50\n",
      "93/93 [==============================] - 16s 177ms/step - loss: 0.9664 - accuracy: 0.0396\n",
      "Epoch 10/50\n",
      "93/93 [==============================] - 17s 177ms/step - loss: 0.9344 - accuracy: 0.0397\n",
      "Epoch 11/50\n",
      "93/93 [==============================] - 16s 177ms/step - loss: 0.9030 - accuracy: 0.0397\n",
      "Epoch 12/50\n",
      "93/93 [==============================] - 16s 177ms/step - loss: 0.8733 - accuracy: 0.0398\n",
      "Epoch 13/50\n",
      "93/93 [==============================] - 16s 177ms/step - loss: 0.8457 - accuracy: 0.0398\n",
      "Epoch 14/50\n",
      "93/93 [==============================] - 16s 177ms/step - loss: 0.8202 - accuracy: 0.0400\n",
      "Epoch 15/50\n",
      "93/93 [==============================] - 16s 177ms/step - loss: 0.7969 - accuracy: 0.0406\n",
      "Epoch 16/50\n",
      "93/93 [==============================] - 16s 177ms/step - loss: 0.7762 - accuracy: 0.0415\n",
      "Epoch 17/50\n",
      "93/93 [==============================] - 16s 177ms/step - loss: 0.7584 - accuracy: 0.0424\n",
      "Epoch 18/50\n",
      "93/93 [==============================] - 16s 177ms/step - loss: 0.7428 - accuracy: 0.0432\n",
      "Epoch 19/50\n",
      "93/93 [==============================] - 16s 177ms/step - loss: 0.7289 - accuracy: 0.0439\n",
      "Epoch 20/50\n",
      "93/93 [==============================] - 16s 177ms/step - loss: 0.7159 - accuracy: 0.0446\n",
      "Epoch 21/50\n",
      "93/93 [==============================] - 16s 177ms/step - loss: 0.7030 - accuracy: 0.0454\n",
      "Epoch 22/50\n",
      "93/93 [==============================] - 16s 177ms/step - loss: 0.6906 - accuracy: 0.0462\n",
      "Epoch 23/50\n",
      "93/93 [==============================] - 17s 177ms/step - loss: 0.6786 - accuracy: 0.0470\n",
      "Epoch 24/50\n",
      "93/93 [==============================] - 17s 177ms/step - loss: 0.6668 - accuracy: 0.0477\n",
      "Epoch 25/50\n",
      "93/93 [==============================] - 16s 177ms/step - loss: 0.6551 - accuracy: 0.0487\n",
      "Epoch 26/50\n",
      "93/93 [==============================] - 16s 177ms/step - loss: 0.6429 - accuracy: 0.0495\n",
      "Epoch 27/50\n",
      "93/93 [==============================] - 17s 178ms/step - loss: 0.6309 - accuracy: 0.0507\n",
      "Epoch 28/50\n",
      "93/93 [==============================] - 16s 177ms/step - loss: 0.6182 - accuracy: 0.0519\n",
      "Epoch 29/50\n",
      "93/93 [==============================] - 16s 177ms/step - loss: 0.6058 - accuracy: 0.0530\n",
      "Epoch 30/50\n",
      "93/93 [==============================] - 16s 177ms/step - loss: 0.5930 - accuracy: 0.0543\n",
      "Epoch 31/50\n",
      "93/93 [==============================] - 16s 177ms/step - loss: 0.5793 - accuracy: 0.0558\n",
      "Epoch 32/50\n",
      "93/93 [==============================] - 16s 177ms/step - loss: 0.5660 - accuracy: 0.0573\n",
      "Epoch 33/50\n",
      "93/93 [==============================] - 16s 177ms/step - loss: 0.5514 - accuracy: 0.0592\n",
      "Epoch 34/50\n",
      "93/93 [==============================] - 17s 177ms/step - loss: 0.5372 - accuracy: 0.0610\n",
      "Epoch 35/50\n",
      "93/93 [==============================] - 17s 178ms/step - loss: 0.5229 - accuracy: 0.0631\n",
      "Epoch 36/50\n",
      "93/93 [==============================] - 16s 177ms/step - loss: 0.5077 - accuracy: 0.0651\n",
      "Epoch 37/50\n",
      "93/93 [==============================] - 16s 177ms/step - loss: 0.4926 - accuracy: 0.0672\n",
      "Epoch 38/50\n",
      "93/93 [==============================] - 16s 177ms/step - loss: 0.4775 - accuracy: 0.0692\n",
      "Epoch 39/50\n",
      "93/93 [==============================] - 16s 177ms/step - loss: 0.4617 - accuracy: 0.0714\n",
      "Epoch 40/50\n",
      "93/93 [==============================] - 17s 177ms/step - loss: 0.4459 - accuracy: 0.0738\n",
      "Epoch 41/50\n",
      "93/93 [==============================] - 16s 177ms/step - loss: 0.4302 - accuracy: 0.0759\n",
      "Epoch 42/50\n",
      "93/93 [==============================] - 17s 178ms/step - loss: 0.4143 - accuracy: 0.0781\n",
      "Epoch 43/50\n",
      "93/93 [==============================] - 16s 177ms/step - loss: 0.3983 - accuracy: 0.0806\n",
      "Epoch 44/50\n",
      "93/93 [==============================] - 17s 177ms/step - loss: 0.3813 - accuracy: 0.0833\n",
      "Epoch 45/50\n",
      "93/93 [==============================] - 16s 177ms/step - loss: 0.3656 - accuracy: 0.0858\n",
      "Epoch 46/50\n",
      "93/93 [==============================] - 16s 177ms/step - loss: 0.3494 - accuracy: 0.0882\n",
      "Epoch 47/50\n",
      "93/93 [==============================] - 17s 177ms/step - loss: 0.3332 - accuracy: 0.0909\n",
      "Epoch 48/50\n",
      "93/93 [==============================] - 16s 177ms/step - loss: 0.3164 - accuracy: 0.0936\n",
      "Epoch 49/50\n",
      "93/93 [==============================] - 17s 178ms/step - loss: 0.3003 - accuracy: 0.0963\n",
      "Epoch 50/50\n",
      "93/93 [==============================] - 17s 178ms/step - loss: 0.2843 - accuracy: 0.0989\n"
     ]
    },
    {
     "data": {
      "text/plain": [
       "<keras.callbacks.History at 0x7939840d44c0>"
      ]
     },
     "execution_count": 37,
     "metadata": {},
     "output_type": "execute_result"
    }
   ],
   "source": [
    "EPOCHS = 50\n",
    "model1.compile(optimizer=optimizer, loss=loss_function, metrics=[accuracy])\n",
    "model1.fit(dataset, epochs=EPOCHS, verbose=1)"
   ]
  },
  {
   "cell_type": "code",
   "execution_count": 38,
   "id": "97e71a25",
   "metadata": {
    "scrolled": true
   },
   "outputs": [
    {
     "name": "stdout",
     "output_type": "stream",
     "text": [
      "Epoch 1/50\n",
      "93/93 [==============================] - 51s 311ms/step - loss: 1.0343 - accuracy: 0.0200\n",
      "Epoch 2/50\n",
      "93/93 [==============================] - 29s 313ms/step - loss: 0.8948 - accuracy: 0.0204\n",
      "Epoch 3/50\n",
      "93/93 [==============================] - 29s 310ms/step - loss: 0.8799 - accuracy: 0.0232\n",
      "Epoch 4/50\n",
      "93/93 [==============================] - 29s 312ms/step - loss: 0.8333 - accuracy: 0.0391\n",
      "Epoch 5/50\n",
      "93/93 [==============================] - 29s 312ms/step - loss: 0.8014 - accuracy: 0.0396\n",
      "Epoch 6/50\n",
      "93/93 [==============================] - 29s 312ms/step - loss: 0.7659 - accuracy: 0.0407\n",
      "Epoch 7/50\n",
      "93/93 [==============================] - 29s 312ms/step - loss: 0.7426 - accuracy: 0.0420\n",
      "Epoch 8/50\n",
      "93/93 [==============================] - 29s 312ms/step - loss: 0.7244 - accuracy: 0.0430\n",
      "Epoch 9/50\n",
      "93/93 [==============================] - 29s 312ms/step - loss: 0.7085 - accuracy: 0.0436\n",
      "Epoch 10/50\n",
      "93/93 [==============================] - 29s 312ms/step - loss: 0.6932 - accuracy: 0.0444\n",
      "Epoch 11/50\n",
      "93/93 [==============================] - 29s 312ms/step - loss: 0.6768 - accuracy: 0.0453\n",
      "Epoch 12/50\n",
      "93/93 [==============================] - 29s 312ms/step - loss: 0.6595 - accuracy: 0.0467\n",
      "Epoch 13/50\n",
      "93/93 [==============================] - 29s 312ms/step - loss: 0.6415 - accuracy: 0.0479\n",
      "Epoch 14/50\n",
      "93/93 [==============================] - 29s 312ms/step - loss: 0.6222 - accuracy: 0.0495\n",
      "Epoch 15/50\n",
      "93/93 [==============================] - 29s 312ms/step - loss: 0.6031 - accuracy: 0.0509\n",
      "Epoch 16/50\n",
      "93/93 [==============================] - 29s 312ms/step - loss: 0.5835 - accuracy: 0.0524\n",
      "Epoch 17/50\n",
      "93/93 [==============================] - 29s 312ms/step - loss: 0.5635 - accuracy: 0.0542\n",
      "Epoch 18/50\n",
      "93/93 [==============================] - 29s 312ms/step - loss: 0.5426 - accuracy: 0.0561\n",
      "Epoch 19/50\n",
      "93/93 [==============================] - 29s 312ms/step - loss: 0.5228 - accuracy: 0.0581\n",
      "Epoch 20/50\n",
      "93/93 [==============================] - 29s 312ms/step - loss: 0.5025 - accuracy: 0.0604\n",
      "Epoch 21/50\n",
      "93/93 [==============================] - 29s 312ms/step - loss: 0.4824 - accuracy: 0.0625\n",
      "Epoch 22/50\n",
      "93/93 [==============================] - 29s 312ms/step - loss: 0.4597 - accuracy: 0.0653\n",
      "Epoch 23/50\n",
      "93/93 [==============================] - 29s 311ms/step - loss: 0.4400 - accuracy: 0.0676\n",
      "Epoch 24/50\n",
      "93/93 [==============================] - 29s 312ms/step - loss: 0.4185 - accuracy: 0.0704\n",
      "Epoch 25/50\n",
      "93/93 [==============================] - 29s 312ms/step - loss: 0.3969 - accuracy: 0.0736\n",
      "Epoch 26/50\n",
      "93/93 [==============================] - 29s 311ms/step - loss: 0.3767 - accuracy: 0.0767\n",
      "Epoch 27/50\n",
      "93/93 [==============================] - 29s 312ms/step - loss: 0.3558 - accuracy: 0.0801\n",
      "Epoch 28/50\n",
      "93/93 [==============================] - 29s 312ms/step - loss: 0.3347 - accuracy: 0.0834\n",
      "Epoch 29/50\n",
      "93/93 [==============================] - 29s 312ms/step - loss: 0.3142 - accuracy: 0.0869\n",
      "Epoch 30/50\n",
      "93/93 [==============================] - 29s 312ms/step - loss: 0.2938 - accuracy: 0.0907\n",
      "Epoch 31/50\n",
      "93/93 [==============================] - 29s 312ms/step - loss: 0.2742 - accuracy: 0.0942\n",
      "Epoch 32/50\n",
      "93/93 [==============================] - 29s 312ms/step - loss: 0.2540 - accuracy: 0.0979\n",
      "Epoch 33/50\n",
      "93/93 [==============================] - 29s 312ms/step - loss: 0.2352 - accuracy: 0.1016\n",
      "Epoch 34/50\n",
      "93/93 [==============================] - 29s 312ms/step - loss: 0.2151 - accuracy: 0.1053\n",
      "Epoch 35/50\n",
      "93/93 [==============================] - 29s 312ms/step - loss: 0.1975 - accuracy: 0.1088\n",
      "Epoch 36/50\n",
      "93/93 [==============================] - 29s 312ms/step - loss: 0.1802 - accuracy: 0.1120\n",
      "Epoch 37/50\n",
      "93/93 [==============================] - 29s 312ms/step - loss: 0.1627 - accuracy: 0.1153\n",
      "Epoch 38/50\n",
      "93/93 [==============================] - 29s 313ms/step - loss: 0.1467 - accuracy: 0.1183\n",
      "Epoch 39/50\n",
      "93/93 [==============================] - 29s 312ms/step - loss: 0.1323 - accuracy: 0.1209\n",
      "Epoch 40/50\n",
      "93/93 [==============================] - 29s 312ms/step - loss: 0.1175 - accuracy: 0.1236\n",
      "Epoch 41/50\n",
      "93/93 [==============================] - 29s 312ms/step - loss: 0.1042 - accuracy: 0.1258\n",
      "Epoch 42/50\n",
      "93/93 [==============================] - 29s 312ms/step - loss: 0.0919 - accuracy: 0.1279\n",
      "Epoch 43/50\n",
      "93/93 [==============================] - 29s 312ms/step - loss: 0.0808 - accuracy: 0.1297\n",
      "Epoch 44/50\n",
      "93/93 [==============================] - 29s 312ms/step - loss: 0.0714 - accuracy: 0.1311\n",
      "Epoch 45/50\n",
      "93/93 [==============================] - 29s 312ms/step - loss: 0.0627 - accuracy: 0.1323\n",
      "Epoch 46/50\n",
      "93/93 [==============================] - 29s 312ms/step - loss: 0.0542 - accuracy: 0.1335\n",
      "Epoch 47/50\n",
      "93/93 [==============================] - 29s 312ms/step - loss: 0.0471 - accuracy: 0.1345\n",
      "Epoch 48/50\n",
      "93/93 [==============================] - 29s 312ms/step - loss: 0.0412 - accuracy: 0.1352\n",
      "Epoch 49/50\n",
      "93/93 [==============================] - 29s 312ms/step - loss: 0.0359 - accuracy: 0.1358\n",
      "Epoch 50/50\n",
      "93/93 [==============================] - 29s 312ms/step - loss: 0.0300 - accuracy: 0.1365\n"
     ]
    },
    {
     "data": {
      "text/plain": [
       "<keras.callbacks.History at 0x79390b5b8a90>"
      ]
     },
     "execution_count": 38,
     "metadata": {},
     "output_type": "execute_result"
    }
   ],
   "source": [
    "EPOCHS = 50\n",
    "model2.compile(optimizer=optimizer, loss=loss_function, metrics=[accuracy])\n",
    "model2.fit(dataset, epochs=EPOCHS, verbose=1)"
   ]
  },
  {
   "cell_type": "code",
   "execution_count": 39,
   "id": "e65154c4",
   "metadata": {},
   "outputs": [
    {
     "name": "stdout",
     "output_type": "stream",
     "text": [
      "Epoch 1/50\n",
      "93/93 [==============================] - 101s 582ms/step - loss: 0.9699 - accuracy: 0.0201\n",
      "Epoch 2/50\n",
      "93/93 [==============================] - 54s 579ms/step - loss: 0.8837 - accuracy: 0.0204\n",
      "Epoch 3/50\n",
      "93/93 [==============================] - 54s 580ms/step - loss: 0.8825 - accuracy: 0.0202\n",
      "Epoch 4/50\n",
      "93/93 [==============================] - 54s 580ms/step - loss: 0.8819 - accuracy: 0.0203\n",
      "Epoch 5/50\n",
      "93/93 [==============================] - 54s 580ms/step - loss: 0.8816 - accuracy: 0.0203\n",
      "Epoch 6/50\n",
      "93/93 [==============================] - 54s 579ms/step - loss: 0.8814 - accuracy: 0.0203\n",
      "Epoch 7/50\n",
      "93/93 [==============================] - 54s 579ms/step - loss: 0.8811 - accuracy: 0.0204\n",
      "Epoch 8/50\n",
      "93/93 [==============================] - 54s 578ms/step - loss: 0.8809 - accuracy: 0.0206\n",
      "Epoch 9/50\n",
      "93/93 [==============================] - 54s 578ms/step - loss: 0.8783 - accuracy: 0.0206\n",
      "Epoch 10/50\n",
      "93/93 [==============================] - 54s 579ms/step - loss: 0.8717 - accuracy: 0.0215\n",
      "Epoch 11/50\n",
      "93/93 [==============================] - 54s 579ms/step - loss: 0.8606 - accuracy: 0.0221\n",
      "Epoch 12/50\n",
      "93/93 [==============================] - 54s 580ms/step - loss: 0.8522 - accuracy: 0.0225\n",
      "Epoch 13/50\n",
      "93/93 [==============================] - 54s 579ms/step - loss: 0.8468 - accuracy: 0.0225\n",
      "Epoch 14/50\n",
      "93/93 [==============================] - 54s 579ms/step - loss: 0.8439 - accuracy: 0.0226\n",
      "Epoch 15/50\n",
      "93/93 [==============================] - 54s 579ms/step - loss: 0.8416 - accuracy: 0.0229\n",
      "Epoch 16/50\n",
      "93/93 [==============================] - 54s 579ms/step - loss: 0.8394 - accuracy: 0.0229\n",
      "Epoch 17/50\n",
      "93/93 [==============================] - 54s 579ms/step - loss: 0.8382 - accuracy: 0.0228\n",
      "Epoch 18/50\n",
      "93/93 [==============================] - 54s 580ms/step - loss: 0.8369 - accuracy: 0.0231\n",
      "Epoch 19/50\n",
      "93/93 [==============================] - 54s 580ms/step - loss: 0.8348 - accuracy: 0.0230\n",
      "Epoch 20/50\n",
      "93/93 [==============================] - 54s 579ms/step - loss: 0.8339 - accuracy: 0.0230\n",
      "Epoch 21/50\n",
      "93/93 [==============================] - 54s 579ms/step - loss: 0.8322 - accuracy: 0.0230\n",
      "Epoch 22/50\n",
      "93/93 [==============================] - 54s 579ms/step - loss: 0.8316 - accuracy: 0.0230\n",
      "Epoch 23/50\n",
      "93/93 [==============================] - 54s 580ms/step - loss: 0.8299 - accuracy: 0.0232\n",
      "Epoch 24/50\n",
      "51/93 [===============>..............] - ETA: 24s - loss: 0.8302 - accuracy: 0.0232"
     ]
    },
    {
     "ename": "KeyboardInterrupt",
     "evalue": "",
     "output_type": "error",
     "traceback": [
      "\u001b[0;31m---------------------------------------------------------------------------\u001b[0m",
      "\u001b[0;31mKeyboardInterrupt\u001b[0m                         Traceback (most recent call last)",
      "\u001b[0;32m/tmp/ipykernel_1623/3999585194.py\u001b[0m in \u001b[0;36m<module>\u001b[0;34m\u001b[0m\n\u001b[1;32m      1\u001b[0m \u001b[0mEPOCHS\u001b[0m \u001b[0;34m=\u001b[0m \u001b[0;36m50\u001b[0m\u001b[0;34m\u001b[0m\u001b[0;34m\u001b[0m\u001b[0m\n\u001b[1;32m      2\u001b[0m \u001b[0mmodel3\u001b[0m\u001b[0;34m.\u001b[0m\u001b[0mcompile\u001b[0m\u001b[0;34m(\u001b[0m\u001b[0moptimizer\u001b[0m\u001b[0;34m=\u001b[0m\u001b[0moptimizer\u001b[0m\u001b[0;34m,\u001b[0m \u001b[0mloss\u001b[0m\u001b[0;34m=\u001b[0m\u001b[0mloss_function\u001b[0m\u001b[0;34m,\u001b[0m \u001b[0mmetrics\u001b[0m\u001b[0;34m=\u001b[0m\u001b[0;34m[\u001b[0m\u001b[0maccuracy\u001b[0m\u001b[0;34m]\u001b[0m\u001b[0;34m)\u001b[0m\u001b[0;34m\u001b[0m\u001b[0;34m\u001b[0m\u001b[0m\n\u001b[0;32m----> 3\u001b[0;31m \u001b[0mmodel3\u001b[0m\u001b[0;34m.\u001b[0m\u001b[0mfit\u001b[0m\u001b[0;34m(\u001b[0m\u001b[0mdataset\u001b[0m\u001b[0;34m,\u001b[0m \u001b[0mepochs\u001b[0m\u001b[0;34m=\u001b[0m\u001b[0mEPOCHS\u001b[0m\u001b[0;34m,\u001b[0m \u001b[0mverbose\u001b[0m\u001b[0;34m=\u001b[0m\u001b[0;36m1\u001b[0m\u001b[0;34m)\u001b[0m\u001b[0;34m\u001b[0m\u001b[0;34m\u001b[0m\u001b[0m\n\u001b[0m",
      "\u001b[0;32m/opt/conda/lib/python3.9/site-packages/keras/engine/training.py\u001b[0m in \u001b[0;36mfit\u001b[0;34m(self, x, y, batch_size, epochs, verbose, callbacks, validation_split, validation_data, shuffle, class_weight, sample_weight, initial_epoch, steps_per_epoch, validation_steps, validation_batch_size, validation_freq, max_queue_size, workers, use_multiprocessing)\u001b[0m\n\u001b[1;32m   1182\u001b[0m                 _r=1):\n\u001b[1;32m   1183\u001b[0m               \u001b[0mcallbacks\u001b[0m\u001b[0;34m.\u001b[0m\u001b[0mon_train_batch_begin\u001b[0m\u001b[0;34m(\u001b[0m\u001b[0mstep\u001b[0m\u001b[0;34m)\u001b[0m\u001b[0;34m\u001b[0m\u001b[0;34m\u001b[0m\u001b[0m\n\u001b[0;32m-> 1184\u001b[0;31m               \u001b[0mtmp_logs\u001b[0m \u001b[0;34m=\u001b[0m \u001b[0mself\u001b[0m\u001b[0;34m.\u001b[0m\u001b[0mtrain_function\u001b[0m\u001b[0;34m(\u001b[0m\u001b[0miterator\u001b[0m\u001b[0;34m)\u001b[0m\u001b[0;34m\u001b[0m\u001b[0;34m\u001b[0m\u001b[0m\n\u001b[0m\u001b[1;32m   1185\u001b[0m               \u001b[0;32mif\u001b[0m \u001b[0mdata_handler\u001b[0m\u001b[0;34m.\u001b[0m\u001b[0mshould_sync\u001b[0m\u001b[0;34m:\u001b[0m\u001b[0;34m\u001b[0m\u001b[0;34m\u001b[0m\u001b[0m\n\u001b[1;32m   1186\u001b[0m                 \u001b[0mcontext\u001b[0m\u001b[0;34m.\u001b[0m\u001b[0masync_wait\u001b[0m\u001b[0;34m(\u001b[0m\u001b[0;34m)\u001b[0m\u001b[0;34m\u001b[0m\u001b[0;34m\u001b[0m\u001b[0m\n",
      "\u001b[0;32m/opt/conda/lib/python3.9/site-packages/tensorflow/python/eager/def_function.py\u001b[0m in \u001b[0;36m__call__\u001b[0;34m(self, *args, **kwds)\u001b[0m\n\u001b[1;32m    883\u001b[0m \u001b[0;34m\u001b[0m\u001b[0m\n\u001b[1;32m    884\u001b[0m       \u001b[0;32mwith\u001b[0m \u001b[0mOptionalXlaContext\u001b[0m\u001b[0;34m(\u001b[0m\u001b[0mself\u001b[0m\u001b[0;34m.\u001b[0m\u001b[0m_jit_compile\u001b[0m\u001b[0;34m)\u001b[0m\u001b[0;34m:\u001b[0m\u001b[0;34m\u001b[0m\u001b[0;34m\u001b[0m\u001b[0m\n\u001b[0;32m--> 885\u001b[0;31m         \u001b[0mresult\u001b[0m \u001b[0;34m=\u001b[0m \u001b[0mself\u001b[0m\u001b[0;34m.\u001b[0m\u001b[0m_call\u001b[0m\u001b[0;34m(\u001b[0m\u001b[0;34m*\u001b[0m\u001b[0margs\u001b[0m\u001b[0;34m,\u001b[0m \u001b[0;34m**\u001b[0m\u001b[0mkwds\u001b[0m\u001b[0;34m)\u001b[0m\u001b[0;34m\u001b[0m\u001b[0;34m\u001b[0m\u001b[0m\n\u001b[0m\u001b[1;32m    886\u001b[0m \u001b[0;34m\u001b[0m\u001b[0m\n\u001b[1;32m    887\u001b[0m       \u001b[0mnew_tracing_count\u001b[0m \u001b[0;34m=\u001b[0m \u001b[0mself\u001b[0m\u001b[0;34m.\u001b[0m\u001b[0mexperimental_get_tracing_count\u001b[0m\u001b[0;34m(\u001b[0m\u001b[0;34m)\u001b[0m\u001b[0;34m\u001b[0m\u001b[0;34m\u001b[0m\u001b[0m\n",
      "\u001b[0;32m/opt/conda/lib/python3.9/site-packages/tensorflow/python/eager/def_function.py\u001b[0m in \u001b[0;36m_call\u001b[0;34m(self, *args, **kwds)\u001b[0m\n\u001b[1;32m    915\u001b[0m       \u001b[0;31m# In this case we have created variables on the first call, so we run the\u001b[0m\u001b[0;34m\u001b[0m\u001b[0;34m\u001b[0m\u001b[0m\n\u001b[1;32m    916\u001b[0m       \u001b[0;31m# defunned version which is guaranteed to never create variables.\u001b[0m\u001b[0;34m\u001b[0m\u001b[0;34m\u001b[0m\u001b[0m\n\u001b[0;32m--> 917\u001b[0;31m       \u001b[0;32mreturn\u001b[0m \u001b[0mself\u001b[0m\u001b[0;34m.\u001b[0m\u001b[0m_stateless_fn\u001b[0m\u001b[0;34m(\u001b[0m\u001b[0;34m*\u001b[0m\u001b[0margs\u001b[0m\u001b[0;34m,\u001b[0m \u001b[0;34m**\u001b[0m\u001b[0mkwds\u001b[0m\u001b[0;34m)\u001b[0m  \u001b[0;31m# pylint: disable=not-callable\u001b[0m\u001b[0;34m\u001b[0m\u001b[0;34m\u001b[0m\u001b[0m\n\u001b[0m\u001b[1;32m    918\u001b[0m     \u001b[0;32melif\u001b[0m \u001b[0mself\u001b[0m\u001b[0;34m.\u001b[0m\u001b[0m_stateful_fn\u001b[0m \u001b[0;32mis\u001b[0m \u001b[0;32mnot\u001b[0m \u001b[0;32mNone\u001b[0m\u001b[0;34m:\u001b[0m\u001b[0;34m\u001b[0m\u001b[0;34m\u001b[0m\u001b[0m\n\u001b[1;32m    919\u001b[0m       \u001b[0;31m# Release the lock early so that multiple threads can perform the call\u001b[0m\u001b[0;34m\u001b[0m\u001b[0;34m\u001b[0m\u001b[0m\n",
      "\u001b[0;32m/opt/conda/lib/python3.9/site-packages/tensorflow/python/eager/function.py\u001b[0m in \u001b[0;36m__call__\u001b[0;34m(self, *args, **kwargs)\u001b[0m\n\u001b[1;32m   3037\u001b[0m       (graph_function,\n\u001b[1;32m   3038\u001b[0m        filtered_flat_args) = self._maybe_define_function(args, kwargs)\n\u001b[0;32m-> 3039\u001b[0;31m     return graph_function._call_flat(\n\u001b[0m\u001b[1;32m   3040\u001b[0m         filtered_flat_args, captured_inputs=graph_function.captured_inputs)  # pylint: disable=protected-access\n\u001b[1;32m   3041\u001b[0m \u001b[0;34m\u001b[0m\u001b[0m\n",
      "\u001b[0;32m/opt/conda/lib/python3.9/site-packages/tensorflow/python/eager/function.py\u001b[0m in \u001b[0;36m_call_flat\u001b[0;34m(self, args, captured_inputs, cancellation_manager)\u001b[0m\n\u001b[1;32m   1961\u001b[0m         and executing_eagerly):\n\u001b[1;32m   1962\u001b[0m       \u001b[0;31m# No tape is watching; skip to running the function.\u001b[0m\u001b[0;34m\u001b[0m\u001b[0;34m\u001b[0m\u001b[0m\n\u001b[0;32m-> 1963\u001b[0;31m       return self._build_call_outputs(self._inference_function.call(\n\u001b[0m\u001b[1;32m   1964\u001b[0m           ctx, args, cancellation_manager=cancellation_manager))\n\u001b[1;32m   1965\u001b[0m     forward_backward = self._select_forward_and_backward_functions(\n",
      "\u001b[0;32m/opt/conda/lib/python3.9/site-packages/tensorflow/python/eager/function.py\u001b[0m in \u001b[0;36mcall\u001b[0;34m(self, ctx, args, cancellation_manager)\u001b[0m\n\u001b[1;32m    589\u001b[0m       \u001b[0;32mwith\u001b[0m \u001b[0m_InterpolateFunctionError\u001b[0m\u001b[0;34m(\u001b[0m\u001b[0mself\u001b[0m\u001b[0;34m)\u001b[0m\u001b[0;34m:\u001b[0m\u001b[0;34m\u001b[0m\u001b[0;34m\u001b[0m\u001b[0m\n\u001b[1;32m    590\u001b[0m         \u001b[0;32mif\u001b[0m \u001b[0mcancellation_manager\u001b[0m \u001b[0;32mis\u001b[0m \u001b[0;32mNone\u001b[0m\u001b[0;34m:\u001b[0m\u001b[0;34m\u001b[0m\u001b[0;34m\u001b[0m\u001b[0m\n\u001b[0;32m--> 591\u001b[0;31m           outputs = execute.execute(\n\u001b[0m\u001b[1;32m    592\u001b[0m               \u001b[0mstr\u001b[0m\u001b[0;34m(\u001b[0m\u001b[0mself\u001b[0m\u001b[0;34m.\u001b[0m\u001b[0msignature\u001b[0m\u001b[0;34m.\u001b[0m\u001b[0mname\u001b[0m\u001b[0;34m)\u001b[0m\u001b[0;34m,\u001b[0m\u001b[0;34m\u001b[0m\u001b[0;34m\u001b[0m\u001b[0m\n\u001b[1;32m    593\u001b[0m               \u001b[0mnum_outputs\u001b[0m\u001b[0;34m=\u001b[0m\u001b[0mself\u001b[0m\u001b[0;34m.\u001b[0m\u001b[0m_num_outputs\u001b[0m\u001b[0;34m,\u001b[0m\u001b[0;34m\u001b[0m\u001b[0;34m\u001b[0m\u001b[0m\n",
      "\u001b[0;32m/opt/conda/lib/python3.9/site-packages/tensorflow/python/eager/execute.py\u001b[0m in \u001b[0;36mquick_execute\u001b[0;34m(op_name, num_outputs, inputs, attrs, ctx, name)\u001b[0m\n\u001b[1;32m     57\u001b[0m   \u001b[0;32mtry\u001b[0m\u001b[0;34m:\u001b[0m\u001b[0;34m\u001b[0m\u001b[0;34m\u001b[0m\u001b[0m\n\u001b[1;32m     58\u001b[0m     \u001b[0mctx\u001b[0m\u001b[0;34m.\u001b[0m\u001b[0mensure_initialized\u001b[0m\u001b[0;34m(\u001b[0m\u001b[0;34m)\u001b[0m\u001b[0;34m\u001b[0m\u001b[0;34m\u001b[0m\u001b[0m\n\u001b[0;32m---> 59\u001b[0;31m     tensors = pywrap_tfe.TFE_Py_Execute(ctx._handle, device_name, op_name,\n\u001b[0m\u001b[1;32m     60\u001b[0m                                         inputs, attrs, num_outputs)\n\u001b[1;32m     61\u001b[0m   \u001b[0;32mexcept\u001b[0m \u001b[0mcore\u001b[0m\u001b[0;34m.\u001b[0m\u001b[0m_NotOkStatusException\u001b[0m \u001b[0;32mas\u001b[0m \u001b[0me\u001b[0m\u001b[0;34m:\u001b[0m\u001b[0;34m\u001b[0m\u001b[0;34m\u001b[0m\u001b[0m\n",
      "\u001b[0;31mKeyboardInterrupt\u001b[0m: "
     ]
    }
   ],
   "source": [
    "EPOCHS = 50\n",
    "model3.compile(optimizer=optimizer, loss=loss_function, metrics=[accuracy])\n",
    "model3.fit(dataset, epochs=EPOCHS, verbose=1)"
   ]
  },
  {
   "cell_type": "markdown",
   "id": "81148fb2",
   "metadata": {},
   "source": [
    "## Step5. 모델 평가하기"
   ]
  },
  {
   "cell_type": "code",
   "execution_count": 59,
   "id": "b6cefc97",
   "metadata": {},
   "outputs": [
    {
     "name": "stdout",
     "output_type": "stream",
     "text": [
      "슝=3\n"
     ]
    }
   ],
   "source": [
    "def decoder_inference(sentence):\n",
    "  sentence = preprocess_sentence(sentence)\n",
    "\n",
    "  # 입력된 문장을 정수 인코딩 후, 시작 토큰과 종료 토큰을 앞뒤로 추가.\n",
    "  # ex) Where have you been? → [[8331   86   30    5 1059    7 8332]]\n",
    "  sentence = tf.expand_dims(\n",
    "      START_TOKEN + tokenizer.encode(sentence) + END_TOKEN, axis=0)\n",
    "\n",
    "  # 디코더의 현재까지의 예측한 출력 시퀀스가 지속적으로 저장되는 변수.\n",
    "  # 처음에는 예측한 내용이 없음으로 시작 토큰만 별도 저장. ex) 8331\n",
    "  output_sequence = tf.expand_dims(START_TOKEN, 0)\n",
    "\n",
    "  # 디코더의 인퍼런스 단계\n",
    "  for i in range(MAX_LENGTH):\n",
    "    # 디코더는 최대 MAX_LENGTH의 길이만큼 다음 단어 예측을 반복합니다.\n",
    "    predictions = model3(inputs=[sentence, output_sequence], training=False)\n",
    "    predictions = predictions[:, -1:, :]\n",
    "\n",
    "    # 현재 예측한 단어의 정수\n",
    "    predicted_id = tf.cast(tf.argmax(predictions, axis=-1), tf.int32)\n",
    "\n",
    "    # 만약 현재 예측한 단어가 종료 토큰이라면 for문을 종료\n",
    "    if tf.equal(predicted_id, END_TOKEN[0]):\n",
    "      break\n",
    "\n",
    "    # 예측한 단어들은 지속적으로 output_sequence에 추가됩니다.\n",
    "    # 이 output_sequence는 다시 디코더의 입력이 됩니다.\n",
    "    output_sequence = tf.concat([output_sequence, predicted_id], axis=-1)\n",
    "\n",
    "  return tf.squeeze(output_sequence, axis=0)\n",
    "print(\"슝=3\")"
   ]
  },
  {
   "cell_type": "code",
   "execution_count": 60,
   "id": "3b59adec",
   "metadata": {},
   "outputs": [
    {
     "name": "stdout",
     "output_type": "stream",
     "text": [
      "슝=3\n"
     ]
    }
   ],
   "source": [
    "def sentence_generation(sentence):\n",
    "    \n",
    "  # 입력 문장에 대해서 디코더를 동작 시켜 예측된 정수 시퀀스를 리턴받습니다.\n",
    "  prediction = decoder_inference(sentence)\n",
    "\n",
    "  # 정수 시퀀스를 다시 텍스트 시퀀스로 변환합니다.\n",
    "  predicted_sentence = tokenizer.decode(\n",
    "      [i for i in prediction if i < tokenizer.vocab_size])\n",
    "\n",
    "  print('입력 : {}'.format(sentence))\n",
    "  print('출력 : {}'.format(predicted_sentence))\n",
    "\n",
    "  return predicted_sentence\n",
    "print(\"슝=3\")"
   ]
  },
  {
   "attachments": {
    "image.png": {
     "image/png": "[encoded data removed]"
    }
   },
   "cell_type": "markdown",
   "id": "1a34e57c",
   "metadata": {},
   "source": [
    "### 다른 모델에 대해 동일한 쿼리 실행\n",
    "![image.png](attachment:image.png)"
   ]
  },
  {
   "cell_type": "markdown",
   "id": "ef054e2f",
   "metadata": {},
   "source": [
    "- model1"
   ]
  },
  {
   "cell_type": "code",
   "execution_count": 52,
   "id": "c3ebe8c7",
   "metadata": {},
   "outputs": [
    {
     "name": "stdout",
     "output_type": "stream",
     "text": [
      "입력 : 12시 땡!\n",
      "출력 : 직장 스트레스 심하겠네요 .\n"
     ]
    },
    {
     "data": {
      "text/plain": [
       "'직장 스트레스 심하겠네요 .'"
      ]
     },
     "execution_count": 52,
     "metadata": {},
     "output_type": "execute_result"
    }
   ],
   "source": [
    "sentence_generation('12시 땡!')"
   ]
  },
  {
   "cell_type": "code",
   "execution_count": 51,
   "id": "ceba023d",
   "metadata": {},
   "outputs": [
    {
     "name": "stdout",
     "output_type": "stream",
     "text": [
      "입력 : 1지망 학교가 떨어졌어\n",
      "출력 : 이제 좀 괜찮아졌길 바랍니다 .\n"
     ]
    },
    {
     "data": {
      "text/plain": [
       "'이제 좀 괜찮아졌길 바랍니다 .'"
      ]
     },
     "execution_count": 51,
     "metadata": {},
     "output_type": "execute_result"
    }
   ],
   "source": [
    "sentence_generation('1지망 학교가 떨어졌어')"
   ]
  },
  {
   "cell_type": "code",
   "execution_count": 53,
   "id": "ad72eff3",
   "metadata": {},
   "outputs": [
    {
     "name": "stdout",
     "output_type": "stream",
     "text": [
      "입력 : 3박 4일 놀러가고 싶다\n",
      "출력 : 뭘 입어도 만큼 좋은 일이 생길 거예요 .\n"
     ]
    },
    {
     "data": {
      "text/plain": [
       "'뭘 입어도 만큼 좋은 일이 생길 거예요 .'"
      ]
     },
     "execution_count": 53,
     "metadata": {},
     "output_type": "execute_result"
    }
   ],
   "source": [
    "sentence_generation('3박 4일 놀러가고 싶다')"
   ]
  },
  {
   "cell_type": "markdown",
   "id": "395b4bbb",
   "metadata": {},
   "source": [
    "- model2"
   ]
  },
  {
   "cell_type": "code",
   "execution_count": 56,
   "id": "b2707374",
   "metadata": {},
   "outputs": [
    {
     "name": "stdout",
     "output_type": "stream",
     "text": [
      "입력 : 12시 땡!\n",
      "출력 : 하루가 또 가네요 .\n"
     ]
    },
    {
     "data": {
      "text/plain": [
       "'하루가 또 가네요 .'"
      ]
     },
     "execution_count": 56,
     "metadata": {},
     "output_type": "execute_result"
    }
   ],
   "source": [
    "sentence_generation('12시 땡!')"
   ]
  },
  {
   "cell_type": "code",
   "execution_count": 57,
   "id": "186b802c",
   "metadata": {},
   "outputs": [
    {
     "name": "stdout",
     "output_type": "stream",
     "text": [
      "입력 : 1지망 학교가 떨어졌어\n",
      "출력 : 위로해 드립니다 .\n"
     ]
    },
    {
     "data": {
      "text/plain": [
       "'위로해 드립니다 .'"
      ]
     },
     "execution_count": 57,
     "metadata": {},
     "output_type": "execute_result"
    }
   ],
   "source": [
    "sentence_generation('1지망 학교가 떨어졌어')"
   ]
  },
  {
   "cell_type": "code",
   "execution_count": 58,
   "id": "e0777e2a",
   "metadata": {},
   "outputs": [
    {
     "name": "stdout",
     "output_type": "stream",
     "text": [
      "입력 : 3박 4일 놀러가고 싶다\n",
      "출력 : 가려 먹으면 좋죠 .\n"
     ]
    },
    {
     "data": {
      "text/plain": [
       "'가려 먹으면 좋죠 .'"
      ]
     },
     "execution_count": 58,
     "metadata": {},
     "output_type": "execute_result"
    }
   ],
   "source": [
    "sentence_generation('3박 4일 놀러가고 싶다')"
   ]
  },
  {
   "cell_type": "markdown",
   "id": "63bf7b5f",
   "metadata": {},
   "source": [
    "- model3"
   ]
  },
  {
   "cell_type": "code",
   "execution_count": 61,
   "id": "0f12a381",
   "metadata": {},
   "outputs": [
    {
     "name": "stdout",
     "output_type": "stream",
     "text": [
      "입력 : 12시 땡!\n",
      "출력 : 저도 저도 저도 저도 저도 저도 저도 저도 저도 저도 저도 저도 저도 저도 저도 저도 저도 저도 저도 저도 저도 저도 저도 저도 저도 저도 저도 저도 저도 저도 저도 저도 저도 저도 저도 저도 저도 저도 저도 저도 저도 저도 저도 저도 저도 저도 저도 저도 저도 저도 \n"
     ]
    },
    {
     "data": {
      "text/plain": [
       "'저도 저도 저도 저도 저도 저도 저도 저도 저도 저도 저도 저도 저도 저도 저도 저도 저도 저도 저도 저도 저도 저도 저도 저도 저도 저도 저도 저도 저도 저도 저도 저도 저도 저도 저도 저도 저도 저도 저도 저도 저도 저도 저도 저도 저도 저도 저도 저도 저도 저도 '"
      ]
     },
     "execution_count": 61,
     "metadata": {},
     "output_type": "execute_result"
    }
   ],
   "source": [
    "sentence_generation('12시 땡!')"
   ]
  },
  {
   "cell_type": "code",
   "execution_count": 62,
   "id": "c86489e1",
   "metadata": {},
   "outputs": [
    {
     "name": "stdout",
     "output_type": "stream",
     "text": [
      "입력 : 1지망 학교가 떨어졌어\n",
      "출력 : 저도 저도 저도 저도 저도 저도 저도 저도 저도 저도 저도 저도 저도 저도 저도 저도 저도 저도 저도 저도 저도 저도 저도 저도 저도 저도 저도 저도 저도 저도 저도 저도 저도 저도 저도 저도 저도 저도 저도 저도 저도 저도 저도 저도 저도 저도 저도 저도 저도 저도 \n"
     ]
    },
    {
     "data": {
      "text/plain": [
       "'저도 저도 저도 저도 저도 저도 저도 저도 저도 저도 저도 저도 저도 저도 저도 저도 저도 저도 저도 저도 저도 저도 저도 저도 저도 저도 저도 저도 저도 저도 저도 저도 저도 저도 저도 저도 저도 저도 저도 저도 저도 저도 저도 저도 저도 저도 저도 저도 저도 저도 '"
      ]
     },
     "execution_count": 62,
     "metadata": {},
     "output_type": "execute_result"
    }
   ],
   "source": [
    "sentence_generation('1지망 학교가 떨어졌어')"
   ]
  },
  {
   "cell_type": "code",
   "execution_count": 63,
   "id": "2dfa725e",
   "metadata": {},
   "outputs": [
    {
     "name": "stdout",
     "output_type": "stream",
     "text": [
      "입력 : 3박 4일 놀러가고 싶다\n",
      "출력 : 저도 저도 저도 저도 저도 저도 저도 저도 저도 저도 저도 저도 저도 저도 저도 저도 저도 저도 저도 저도 저도 저도 저도 저도 저도 저도 저도 저도 저도 저도 저도 저도 저도 저도 저도 저도 저도 저도 저도 저도 저도 저도 저도 저도 저도 저도 저도 저도 저도 저도 \n"
     ]
    },
    {
     "data": {
      "text/plain": [
       "'저도 저도 저도 저도 저도 저도 저도 저도 저도 저도 저도 저도 저도 저도 저도 저도 저도 저도 저도 저도 저도 저도 저도 저도 저도 저도 저도 저도 저도 저도 저도 저도 저도 저도 저도 저도 저도 저도 저도 저도 저도 저도 저도 저도 저도 저도 저도 저도 저도 저도 '"
      ]
     },
     "execution_count": 63,
     "metadata": {},
     "output_type": "execute_result"
    }
   ],
   "source": [
    "sentence_generation('3박 4일 놀러가고 싶다')"
   ]
  },
  {
   "cell_type": "markdown",
   "id": "cdf1a041",
   "metadata": {},
   "source": [
    "# 회고\n",
    "\n",
    "- 학습이 잘 일어나지 않았을때, 최대 길이만큼 텍스트를 반복한다는 것을 알게 됨. -> 최대 길이를 예상 대답 만큼 하는게 적합 한 것 같음.\n",
    "- 트랜스포머 모델의 깊이를 늘린다고 해서 항상 모델이 좋아지는건 아님.\n",
    "- 모델의 원리를 완벽히 파악하지 못해 하이퍼 파라미터 튜닝에 중점을 두고 진행함. 조금 더 보충 학습을 해서 모델에 대해 공부하고자 함."
   ]
  },
  {
   "cell_type": "code",
   "execution_count": null,
   "id": "5340f2c4",
   "metadata": {},
   "outputs": [],
   "source": []
  }
 ],
 "metadata": {
  "kernelspec": {
   "display_name": "Python 3 (ipykernel)",
   "language": "python",
   "name": "python3"
  },
  "language_info": {
   "codemirror_mode": {
    "name": "ipython",
    "version": 3
   },
   "file_extension": ".py",
   "mimetype": "text/x-python",
   "name": "python",
   "nbconvert_exporter": "python",
   "pygments_lexer": "ipython3",
   "version": "3.9.7"
  }
 },
 "nbformat": 4,
 "nbformat_minor": 5
}
