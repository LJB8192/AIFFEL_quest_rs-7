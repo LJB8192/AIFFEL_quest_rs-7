{
 "cells": [
  {
   "cell_type": "markdown",
   "id": "0abc9ff6",
   "metadata": {},
   "source": [
    "# 뉴스 요약봇 만들기 프로젝트\n",
    "\n",
    "#### 주요 라이브러리 버전확인"
   ]
  },
  {
   "cell_type": "code",
   "execution_count": 1,
   "id": "22749bad",
   "metadata": {
    "scrolled": true
   },
   "outputs": [
    {
     "name": "stdout",
     "output_type": "stream",
     "text": [
      "3.6.5\n",
      "2.6.0\n",
      "1.3.3\n",
      "1.2.0\n"
     ]
    }
   ],
   "source": [
    "from importlib.metadata import version\n",
    "import nltk\n",
    "import tensorflow\n",
    "import summa\n",
    "import pandas as pd\n",
    "\n",
    "print(nltk.__version__)\n",
    "print(tensorflow.__version__)\n",
    "print(pd.__version__)\n",
    "print(version('summa'))"
   ]
  },
  {
   "cell_type": "markdown",
   "id": "8a8c0d46",
   "metadata": {},
   "source": [
    "나머지 라이브러리 import"
   ]
  },
  {
   "cell_type": "code",
   "execution_count": 10,
   "id": "6c7d846d",
   "metadata": {},
   "outputs": [
    {
     "name": "stderr",
     "output_type": "stream",
     "text": [
      "[nltk_data] Downloading package stopwords to /aiffel/nltk_data...\n",
      "[nltk_data]   Unzipping corpora/stopwords.zip.\n"
     ]
    },
    {
     "name": "stdout",
     "output_type": "stream",
     "text": [
      "=3\n"
     ]
    }
   ],
   "source": [
    "import nltk\n",
    "nltk.download('stopwords')\n",
    "\n",
    "import numpy as np\n",
    "import os\n",
    "import re\n",
    "import matplotlib.pyplot as plt\n",
    "from nltk.corpus import stopwords\n",
    "from bs4 import BeautifulSoup \n",
    "from tensorflow.keras.preprocessing.text import Tokenizer \n",
    "from tensorflow.keras.preprocessing.sequence import pad_sequences\n",
    "import urllib.request\n",
    "import warnings\n",
    "warnings.filterwarnings(\"ignore\", category=UserWarning, module='bs4')\n",
    "\n",
    "print('=3')"
   ]
  },
  {
   "cell_type": "markdown",
   "id": "0c3aa975",
   "metadata": {},
   "source": [
    "## 1. 데이터 수집하기\n",
    "뉴스 기사 데이터 사용 : https://github.com/sunnysai12345/News_Summary"
   ]
  },
  {
   "cell_type": "code",
   "execution_count": 2,
   "id": "5b6857dc",
   "metadata": {},
   "outputs": [],
   "source": [
    "import urllib.request\n",
    "urllib.request.urlretrieve(\"https://raw.githubusercontent.com/sunnysai12345/News_Summary/master/news_summary_more.csv\", filename=\"news_summary_more.csv\")\n",
    "data = pd.read_csv('news_summary_more.csv', encoding='iso-8859-1')"
   ]
  },
  {
   "cell_type": "code",
   "execution_count": 3,
   "id": "648f80da",
   "metadata": {
    "scrolled": true
   },
   "outputs": [
    {
     "data": {
      "text/html": [
       "<div>\n",
       "<style scoped>\n",
       "    .dataframe tbody tr th:only-of-type {\n",
       "        vertical-align: middle;\n",
       "    }\n",
       "\n",
       "    .dataframe tbody tr th {\n",
       "        vertical-align: top;\n",
       "    }\n",
       "\n",
       "    .dataframe thead th {\n",
       "        text-align: right;\n",
       "    }\n",
       "</style>\n",
       "<table border=\"1\" class=\"dataframe\">\n",
       "  <thead>\n",
       "    <tr style=\"text-align: right;\">\n",
       "      <th></th>\n",
       "      <th>headlines</th>\n",
       "      <th>text</th>\n",
       "    </tr>\n",
       "  </thead>\n",
       "  <tbody>\n",
       "    <tr>\n",
       "      <th>65414</th>\n",
       "      <td>My competition is cash, not Paytm or Apple: Ma...</td>\n",
       "      <td>Ajay Banga, the President and CEO of Mastercar...</td>\n",
       "    </tr>\n",
       "    <tr>\n",
       "      <th>53679</th>\n",
       "      <td>Honeypreet's mother sends Ã¢ÂÂ¹5 cr defamatio...</td>\n",
       "      <td>The mother of Panchkula violence accused Honey...</td>\n",
       "    </tr>\n",
       "    <tr>\n",
       "      <th>46569</th>\n",
       "      <td>Apple to launch voice-activated AirPods this y...</td>\n",
       "      <td>Technology giant Apple will launch a new model...</td>\n",
       "    </tr>\n",
       "    <tr>\n",
       "      <th>13595</th>\n",
       "      <td>Had my #MeToo moment years ago, Ayushmann's lo...</td>\n",
       "      <td>Ayushmann Khurrana's wife Tahira Kashyap has r...</td>\n",
       "    </tr>\n",
       "    <tr>\n",
       "      <th>34038</th>\n",
       "      <td>Indonesia oil well fire kills 10, injures 40</td>\n",
       "      <td>At least 10 people were killed and around 40 o...</td>\n",
       "    </tr>\n",
       "    <tr>\n",
       "      <th>39587</th>\n",
       "      <td>CBI wanted to arrest PM Modi in Ishrat Jahan c...</td>\n",
       "      <td>Gujarat's former DIG DG Vanzara has told a spe...</td>\n",
       "    </tr>\n",
       "    <tr>\n",
       "      <th>4742</th>\n",
       "      <td>Vanakam Puducherry: Rahul says is PM's answer ...</td>\n",
       "      <td>Taking a dig at PM Narendra Modi for allegedly...</td>\n",
       "    </tr>\n",
       "    <tr>\n",
       "      <th>63190</th>\n",
       "      <td>Trump asks for tougher vetting of immigrants a...</td>\n",
       "      <td>US President Donald Trump has ordered the coun...</td>\n",
       "    </tr>\n",
       "    <tr>\n",
       "      <th>54762</th>\n",
       "      <td>Lok Sabha passes bill to protect unauthorised ...</td>\n",
       "      <td>The Lok Sabha on Wednesday passed a bill propo...</td>\n",
       "    </tr>\n",
       "    <tr>\n",
       "      <th>36524</th>\n",
       "      <td>Israeli forces tweet image threatening Palesti...</td>\n",
       "      <td>An Israel Defence Forces (IDF) spokesperson tw...</td>\n",
       "    </tr>\n",
       "  </tbody>\n",
       "</table>\n",
       "</div>"
      ],
      "text/plain": [
       "                                               headlines  \\\n",
       "65414  My competition is cash, not Paytm or Apple: Ma...   \n",
       "53679  Honeypreet's mother sends Ã¢ÂÂ¹5 cr defamatio...   \n",
       "46569  Apple to launch voice-activated AirPods this y...   \n",
       "13595  Had my #MeToo moment years ago, Ayushmann's lo...   \n",
       "34038       Indonesia oil well fire kills 10, injures 40   \n",
       "39587  CBI wanted to arrest PM Modi in Ishrat Jahan c...   \n",
       "4742   Vanakam Puducherry: Rahul says is PM's answer ...   \n",
       "63190  Trump asks for tougher vetting of immigrants a...   \n",
       "54762  Lok Sabha passes bill to protect unauthorised ...   \n",
       "36524  Israeli forces tweet image threatening Palesti...   \n",
       "\n",
       "                                                    text  \n",
       "65414  Ajay Banga, the President and CEO of Mastercar...  \n",
       "53679  The mother of Panchkula violence accused Honey...  \n",
       "46569  Technology giant Apple will launch a new model...  \n",
       "13595  Ayushmann Khurrana's wife Tahira Kashyap has r...  \n",
       "34038  At least 10 people were killed and around 40 o...  \n",
       "39587  Gujarat's former DIG DG Vanzara has told a spe...  \n",
       "4742   Taking a dig at PM Narendra Modi for allegedly...  \n",
       "63190  US President Donald Trump has ordered the coun...  \n",
       "54762  The Lok Sabha on Wednesday passed a bill propo...  \n",
       "36524  An Israel Defence Forces (IDF) spokesperson tw...  "
      ]
     },
     "execution_count": 3,
     "metadata": {},
     "output_type": "execute_result"
    }
   ],
   "source": [
    "data.sample(10)"
   ]
  },
  {
   "cell_type": "markdown",
   "id": "d47b8c63",
   "metadata": {},
   "source": [
    "#### 데이터에 head를 보고 데이터 내용 확인\n",
    "- headlines : text 내용의 summary로 보임. 'Ã¢ÂÂ', '#' 등 제대로 로드 되지 않은 부분이나 해시태그 같은 부호도 보임. 데이터 전처리에 특히 신경써야 할 것 같음\n",
    "- text : 뉴스 기사에 해당. 'Israel Defence Forces (IDF)'과 같이 의미상 중복인 부분을 어떻게 처리할지 고민해볼 수 있을 것 같음"
   ]
  },
  {
   "cell_type": "markdown",
   "id": "6b8c690d",
   "metadata": {},
   "source": [
    "## 2. 데이터 전처리하기 (추상적 요약)\n",
    "- 중복 샘플과 NULL 값이 존재하는 샘플 제거\n",
    "- 텍스트 정규화와 불용어 제거\n",
    "- 시작 토큰과 종료 토큰 추가\n",
    "- 정수 인코딩\n",
    "\n",
    "노드 학습 중 최대 길이 정하는 부분은 제외함. "
   ]
  },
  {
   "cell_type": "markdown",
   "id": "6e2f44b2",
   "metadata": {},
   "source": [
    "### 중복 샘플과 NULL 값이 존재하는 샘플 제거"
   ]
  },
  {
   "cell_type": "markdown",
   "id": "fc6f80bb",
   "metadata": {},
   "source": [
    "중복 샘플 확인"
   ]
  },
  {
   "cell_type": "code",
   "execution_count": 4,
   "id": "aa84b567",
   "metadata": {
    "scrolled": true
   },
   "outputs": [
    {
     "name": "stdout",
     "output_type": "stream",
     "text": [
      "headlines 열에서 중복을 배제한 유일한 샘플의 수 : 98280\n",
      "text 열에서 중복을 배제한 유일한 샘플의 수 : 98360\n"
     ]
    }
   ],
   "source": [
    "print('headlines 열에서 중복을 배제한 유일한 샘플의 수 :', data['headlines'].nunique())\n",
    "print('text 열에서 중복을 배제한 유일한 샘플의 수 :', data['text'].nunique())"
   ]
  },
  {
   "cell_type": "markdown",
   "id": "f4ee8575",
   "metadata": {},
   "source": [
    "Null 값 확인 : Null값이 없으므로, 제거하는 코드는 작성하지 않음"
   ]
  },
  {
   "cell_type": "code",
   "execution_count": 7,
   "id": "5aac7ccc",
   "metadata": {},
   "outputs": [
    {
     "name": "stdout",
     "output_type": "stream",
     "text": [
      "headlines    0\n",
      "text         0\n",
      "dtype: int64\n"
     ]
    }
   ],
   "source": [
    "print(data.isnull().sum())"
   ]
  },
  {
   "cell_type": "markdown",
   "id": "5b3a947d",
   "metadata": {},
   "source": [
    "### 텍스트 정규화와 불용어 제거\n",
    "정규화 사전 출처: https://stackoverflow.com/questions/19790188/expanding-english-language-contractions-in-python"
   ]
  },
  {
   "cell_type": "code",
   "execution_count": 8,
   "id": "b499abf4",
   "metadata": {},
   "outputs": [
    {
     "name": "stdout",
     "output_type": "stream",
     "text": [
      "정규화 사전의 수:  120\n"
     ]
    }
   ],
   "source": [
    "contractions = {\"ain't\": \"is not\", \"aren't\": \"are not\",\"can't\": \"cannot\", \"'cause\": \"because\", \"could've\": \"could have\", \"couldn't\": \"could not\",\n",
    "                           \"didn't\": \"did not\",  \"doesn't\": \"does not\", \"don't\": \"do not\", \"hadn't\": \"had not\", \"hasn't\": \"has not\", \"haven't\": \"have not\",\n",
    "                           \"he'd\": \"he would\",\"he'll\": \"he will\", \"he's\": \"he is\", \"how'd\": \"how did\", \"how'd'y\": \"how do you\", \"how'll\": \"how will\", \"how's\": \"how is\",\n",
    "                           \"I'd\": \"I would\", \"I'd've\": \"I would have\", \"I'll\": \"I will\", \"I'll've\": \"I will have\",\"I'm\": \"I am\", \"I've\": \"I have\", \"i'd\": \"i would\",\n",
    "                           \"i'd've\": \"i would have\", \"i'll\": \"i will\",  \"i'll've\": \"i will have\",\"i'm\": \"i am\", \"i've\": \"i have\", \"isn't\": \"is not\", \"it'd\": \"it would\",\n",
    "                           \"it'd've\": \"it would have\", \"it'll\": \"it will\", \"it'll've\": \"it will have\",\"it's\": \"it is\", \"let's\": \"let us\", \"ma'am\": \"madam\",\n",
    "                           \"mayn't\": \"may not\", \"might've\": \"might have\",\"mightn't\": \"might not\",\"mightn't've\": \"might not have\", \"must've\": \"must have\",\n",
    "                           \"mustn't\": \"must not\", \"mustn't've\": \"must not have\", \"needn't\": \"need not\", \"needn't've\": \"need not have\",\"o'clock\": \"of the clock\",\n",
    "                           \"oughtn't\": \"ought not\", \"oughtn't've\": \"ought not have\", \"shan't\": \"shall not\", \"sha'n't\": \"shall not\", \"shan't've\": \"shall not have\",\n",
    "                           \"she'd\": \"she would\", \"she'd've\": \"she would have\", \"she'll\": \"she will\", \"she'll've\": \"she will have\", \"she's\": \"she is\",\n",
    "                           \"should've\": \"should have\", \"shouldn't\": \"should not\", \"shouldn't've\": \"should not have\", \"so've\": \"so have\",\"so's\": \"so as\",\n",
    "                           \"this's\": \"this is\",\"that'd\": \"that would\", \"that'd've\": \"that would have\", \"that's\": \"that is\", \"there'd\": \"there would\",\n",
    "                           \"there'd've\": \"there would have\", \"there's\": \"there is\", \"here's\": \"here is\",\"they'd\": \"they would\", \"they'd've\": \"they would have\",\n",
    "                           \"they'll\": \"they will\", \"they'll've\": \"they will have\", \"they're\": \"they are\", \"they've\": \"they have\", \"to've\": \"to have\",\n",
    "                           \"wasn't\": \"was not\", \"we'd\": \"we would\", \"we'd've\": \"we would have\", \"we'll\": \"we will\", \"we'll've\": \"we will have\", \"we're\": \"we are\",\n",
    "                           \"we've\": \"we have\", \"weren't\": \"were not\", \"what'll\": \"what will\", \"what'll've\": \"what will have\", \"what're\": \"what are\",\n",
    "                           \"what's\": \"what is\", \"what've\": \"what have\", \"when's\": \"when is\", \"when've\": \"when have\", \"where'd\": \"where did\", \"where's\": \"where is\",\n",
    "                           \"where've\": \"where have\", \"who'll\": \"who will\", \"who'll've\": \"who will have\", \"who's\": \"who is\", \"who've\": \"who have\",\n",
    "                           \"why's\": \"why is\", \"why've\": \"why have\", \"will've\": \"will have\", \"won't\": \"will not\", \"won't've\": \"will not have\",\n",
    "                           \"would've\": \"would have\", \"wouldn't\": \"would not\", \"wouldn't've\": \"would not have\", \"y'all\": \"you all\",\n",
    "                           \"y'all'd\": \"you all would\",\"y'all'd've\": \"you all would have\",\"y'all're\": \"you all are\",\"y'all've\": \"you all have\",\n",
    "                           \"you'd\": \"you would\", \"you'd've\": \"you would have\", \"you'll\": \"you will\", \"you'll've\": \"you will have\",\n",
    "                           \"you're\": \"you are\", \"you've\": \"you have\"}\n",
    "\n",
    "print(\"정규화 사전의 수: \", len(contractions))"
   ]
  },
  {
   "cell_type": "code",
   "execution_count": 11,
   "id": "cfd81fd6",
   "metadata": {},
   "outputs": [
    {
     "name": "stdout",
     "output_type": "stream",
     "text": [
      "불용어 개수 : 179\n",
      "['i', 'me', 'my', 'myself', 'we', 'our', 'ours', 'ourselves', 'you', \"you're\", \"you've\", \"you'll\", \"you'd\", 'your', 'yours', 'yourself', 'yourselves', 'he', 'him', 'his', 'himself', 'she', \"she's\", 'her', 'hers', 'herself', 'it', \"it's\", 'its', 'itself', 'they', 'them', 'their', 'theirs', 'themselves', 'what', 'which', 'who', 'whom', 'this', 'that', \"that'll\", 'these', 'those', 'am', 'is', 'are', 'was', 'were', 'be', 'been', 'being', 'have', 'has', 'had', 'having', 'do', 'does', 'did', 'doing', 'a', 'an', 'the', 'and', 'but', 'if', 'or', 'because', 'as', 'until', 'while', 'of', 'at', 'by', 'for', 'with', 'about', 'against', 'between', 'into', 'through', 'during', 'before', 'after', 'above', 'below', 'to', 'from', 'up', 'down', 'in', 'out', 'on', 'off', 'over', 'under', 'again', 'further', 'then', 'once', 'here', 'there', 'when', 'where', 'why', 'how', 'all', 'any', 'both', 'each', 'few', 'more', 'most', 'other', 'some', 'such', 'no', 'nor', 'not', 'only', 'own', 'same', 'so', 'than', 'too', 'very', 's', 't', 'can', 'will', 'just', 'don', \"don't\", 'should', \"should've\", 'now', 'd', 'll', 'm', 'o', 're', 've', 'y', 'ain', 'aren', \"aren't\", 'couldn', \"couldn't\", 'didn', \"didn't\", 'doesn', \"doesn't\", 'hadn', \"hadn't\", 'hasn', \"hasn't\", 'haven', \"haven't\", 'isn', \"isn't\", 'ma', 'mightn', \"mightn't\", 'mustn', \"mustn't\", 'needn', \"needn't\", 'shan', \"shan't\", 'shouldn', \"shouldn't\", 'wasn', \"wasn't\", 'weren', \"weren't\", 'won', \"won't\", 'wouldn', \"wouldn't\"]\n"
     ]
    }
   ],
   "source": [
    "print('불용어 개수 :', len(stopwords.words('english') ))\n",
    "print(stopwords.words('english'))"
   ]
  },
  {
   "cell_type": "code",
   "execution_count": 12,
   "id": "aab82702",
   "metadata": {},
   "outputs": [
    {
     "name": "stdout",
     "output_type": "stream",
     "text": [
      "=3\n"
     ]
    }
   ],
   "source": [
    "# 데이터 전처리 함수\n",
    "def preprocess_sentence(sentence, remove_stopwords=True):\n",
    "    sentence = sentence.lower() # 텍스트 소문자화\n",
    "    sentence = BeautifulSoup(sentence, \"lxml\").text # <br />, <a href = ...> 등의 html 태그 제거\n",
    "    sentence = re.sub(r'\\([^)]*\\)', '', sentence) # 괄호로 닫힌 문자열 (...) 제거 Ex) Israel Defence Forces (IDF) -> Israel Defence Forces\n",
    "    sentence = re.sub('\"','', sentence) # 쌍따옴표 \" 제거\n",
    "    sentence = ' '.join([contractions[t] if t in contractions else t for t in sentence.split(\" \")]) # 약어 정규화\n",
    "    sentence = re.sub(r\"'s\\b\",\"\", sentence) # 소유격 제거. Ex) roland's -> roland\n",
    "    sentence = re.sub(\"[^a-zA-Z]\", \" \", sentence) # 영어 외 문자(숫자, 특수문자 등) 공백으로 변환\n",
    "    sentence = re.sub('[m]{2,}', 'mm', sentence) # m이 3개 이상이면 2개로 변경. Ex) ummmmmmm yeah -> umm yeah\n",
    "    \n",
    "    # 불용어 제거 (Text)\n",
    "    if remove_stopwords:\n",
    "        tokens = ' '.join(word for word in sentence.split() if not word in stopwords.words('english') if len(word) > 1)\n",
    "    # 불용어 미제거 (Summary)\n",
    "    else:\n",
    "        tokens = ' '.join(word for word in sentence.split() if len(word) > 1)\n",
    "    return tokens\n",
    "print('=3')"
   ]
  },
  {
   "cell_type": "code",
   "execution_count": 13,
   "id": "9efc12e1",
   "metadata": {},
   "outputs": [
    {
     "name": "stdout",
     "output_type": "stream",
     "text": [
      "Text 전처리 후 결과:  ['saurav kant alumnus upgrad iiit pg program machine learning artificial intelligence sr systems engineer infosys almost years work experience program upgrad degree career support helped transition data scientist tech mahindra salary hike upgrad online power learning powered lakh careers', 'kunal shah credit card bill payment platform cred gave users chance win free food swiggy one year pranav kaushik delhi techie bagged reward spending cred coins users get one cred coin per rupee bill paid used avail rewards brands like ixigo bookmyshow ubereats cult fit', 'new zealand defeated india wickets fourth odi hamilton thursday win first match five match odi series india lost international match rohit sharma captaincy consecutive victories dating back march match witnessed india getting seventh lowest total odi cricket history', 'aegon life iterm insurance plan customers enjoy tax benefits premiums paid save taxes plan provides life cover age years also customers options insure critical illnesses disability accidental death benefit rider life cover age years', 'speaking sexual harassment allegations rajkumar hirani sonam kapoor said known hirani many years true metoo movement get derailed metoo movement always believe woman case need reserve judgment added hirani accused assistant worked sanju']\n"
     ]
    }
   ],
   "source": [
    "# 전체 text 데이터에 대해 전처리\n",
    "clean_text = []\n",
    "\n",
    "for x in data['text']:\n",
    "    clean_text.append(preprocess_sentence(x))\n",
    "\n",
    "\n",
    "# 전처리 후 출력\n",
    "print(\"Text 전처리 후 결과: \", clean_text[:5])"
   ]
  },
  {
   "cell_type": "code",
   "execution_count": 15,
   "id": "686044ce",
   "metadata": {},
   "outputs": [
    {
     "name": "stdout",
     "output_type": "stream",
     "text": [
      "Text 전처리 후 결과:  ['upgrad learner switches career ml al salary hike', 'delhi techie wins free food swiggy one year cred', 'new zealand end rohit sharma led india match winning streak', 'aegon life iterm insurance plan helps customers save tax', 'known hirani yrs metoo claims true sonam']\n"
     ]
    }
   ],
   "source": [
    "# 전체 headlines에 대해 전처리\n",
    "clean_headlines = []\n",
    "\n",
    "for x in data['headlines']:\n",
    "    clean_headlines.append(preprocess_sentence(x))\n",
    "\n",
    "\n",
    "# 전처리 후 출력\n",
    "print(\"Text 전처리 후 결과: \", clean_headlines[:5])"
   ]
  },
  {
   "cell_type": "code",
   "execution_count": 16,
   "id": "c911eaf8",
   "metadata": {},
   "outputs": [
    {
     "name": "stdout",
     "output_type": "stream",
     "text": [
      "=3\n"
     ]
    }
   ],
   "source": [
    "#전처리한 데이터로 대체\n",
    "data['text'] = clean_text\n",
    "data['headlines'] = clean_headlines\n",
    "\n",
    "# 빈 값을 Null 값으로 변환\n",
    "data.replace('', np.nan, inplace=True)\n",
    "print('=3')"
   ]
  },
  {
   "cell_type": "code",
   "execution_count": 18,
   "id": "6517c591",
   "metadata": {},
   "outputs": [
    {
     "data": {
      "text/plain": [
       "headlines    0\n",
       "text         0\n",
       "dtype: int64"
      ]
     },
     "execution_count": 18,
     "metadata": {},
     "output_type": "execute_result"
    }
   ],
   "source": [
    "# null값 확인\n",
    "data.isnull().sum()"
   ]
  },
  {
   "cell_type": "code",
   "execution_count": 19,
   "id": "ba1c3ed8",
   "metadata": {},
   "outputs": [
    {
     "name": "stdout",
     "output_type": "stream",
     "text": [
      "전체 샘플수 : 98360\n"
     ]
    }
   ],
   "source": [
    "# 전처리 전 전체 샘플수 : 98360\n",
    "data.dropna(axis=0, inplace=True)\n",
    "print('전체 샘플수 :', (len(data)))"
   ]
  },
  {
   "cell_type": "markdown",
   "id": "7e49c4d1",
   "metadata": {},
   "source": [
    "### 시작 토큰과 종료 토큰 추가하기"
   ]
  },
  {
   "cell_type": "code",
   "execution_count": 20,
   "id": "a3dd8bba",
   "metadata": {},
   "outputs": [
    {
     "data": {
      "text/html": [
       "<div>\n",
       "<style scoped>\n",
       "    .dataframe tbody tr th:only-of-type {\n",
       "        vertical-align: middle;\n",
       "    }\n",
       "\n",
       "    .dataframe tbody tr th {\n",
       "        vertical-align: top;\n",
       "    }\n",
       "\n",
       "    .dataframe thead th {\n",
       "        text-align: right;\n",
       "    }\n",
       "</style>\n",
       "<table border=\"1\" class=\"dataframe\">\n",
       "  <thead>\n",
       "    <tr style=\"text-align: right;\">\n",
       "      <th></th>\n",
       "      <th>headlines</th>\n",
       "      <th>text</th>\n",
       "      <th>decoder_input</th>\n",
       "      <th>decoder_target</th>\n",
       "    </tr>\n",
       "  </thead>\n",
       "  <tbody>\n",
       "    <tr>\n",
       "      <th>0</th>\n",
       "      <td>upgrad learner switches career ml al salary hike</td>\n",
       "      <td>saurav kant alumnus upgrad iiit pg program mac...</td>\n",
       "      <td>sostoken upgrad learner switches career ml al ...</td>\n",
       "      <td>upgrad learner switches career ml al salary hi...</td>\n",
       "    </tr>\n",
       "    <tr>\n",
       "      <th>1</th>\n",
       "      <td>delhi techie wins free food swiggy one year cred</td>\n",
       "      <td>kunal shah credit card bill payment platform c...</td>\n",
       "      <td>sostoken delhi techie wins free food swiggy on...</td>\n",
       "      <td>delhi techie wins free food swiggy one year cr...</td>\n",
       "    </tr>\n",
       "    <tr>\n",
       "      <th>2</th>\n",
       "      <td>new zealand end rohit sharma led india match w...</td>\n",
       "      <td>new zealand defeated india wickets fourth odi ...</td>\n",
       "      <td>sostoken new zealand end rohit sharma led indi...</td>\n",
       "      <td>new zealand end rohit sharma led india match w...</td>\n",
       "    </tr>\n",
       "    <tr>\n",
       "      <th>3</th>\n",
       "      <td>aegon life iterm insurance plan helps customer...</td>\n",
       "      <td>aegon life iterm insurance plan customers enjo...</td>\n",
       "      <td>sostoken aegon life iterm insurance plan helps...</td>\n",
       "      <td>aegon life iterm insurance plan helps customer...</td>\n",
       "    </tr>\n",
       "    <tr>\n",
       "      <th>4</th>\n",
       "      <td>known hirani yrs metoo claims true sonam</td>\n",
       "      <td>speaking sexual harassment allegations rajkuma...</td>\n",
       "      <td>sostoken known hirani yrs metoo claims true sonam</td>\n",
       "      <td>known hirani yrs metoo claims true sonam eostoken</td>\n",
       "    </tr>\n",
       "  </tbody>\n",
       "</table>\n",
       "</div>"
      ],
      "text/plain": [
       "                                           headlines  \\\n",
       "0   upgrad learner switches career ml al salary hike   \n",
       "1   delhi techie wins free food swiggy one year cred   \n",
       "2  new zealand end rohit sharma led india match w...   \n",
       "3  aegon life iterm insurance plan helps customer...   \n",
       "4           known hirani yrs metoo claims true sonam   \n",
       "\n",
       "                                                text  \\\n",
       "0  saurav kant alumnus upgrad iiit pg program mac...   \n",
       "1  kunal shah credit card bill payment platform c...   \n",
       "2  new zealand defeated india wickets fourth odi ...   \n",
       "3  aegon life iterm insurance plan customers enjo...   \n",
       "4  speaking sexual harassment allegations rajkuma...   \n",
       "\n",
       "                                       decoder_input  \\\n",
       "0  sostoken upgrad learner switches career ml al ...   \n",
       "1  sostoken delhi techie wins free food swiggy on...   \n",
       "2  sostoken new zealand end rohit sharma led indi...   \n",
       "3  sostoken aegon life iterm insurance plan helps...   \n",
       "4  sostoken known hirani yrs metoo claims true sonam   \n",
       "\n",
       "                                      decoder_target  \n",
       "0  upgrad learner switches career ml al salary hi...  \n",
       "1  delhi techie wins free food swiggy one year cr...  \n",
       "2  new zealand end rohit sharma led india match w...  \n",
       "3  aegon life iterm insurance plan helps customer...  \n",
       "4  known hirani yrs metoo claims true sonam eostoken  "
      ]
     },
     "execution_count": 20,
     "metadata": {},
     "output_type": "execute_result"
    }
   ],
   "source": [
    "# 요약 데이터에는 시작 토큰과 종료 토큰을 추가한다.\n",
    "data['decoder_input'] = data['headlines'].apply(lambda x : 'sostoken '+ x)\n",
    "data['decoder_target'] = data['headlines'].apply(lambda x : x + ' eostoken')\n",
    "data.head()"
   ]
  },
  {
   "cell_type": "code",
   "execution_count": 21,
   "id": "f6e66f81",
   "metadata": {},
   "outputs": [
    {
     "name": "stdout",
     "output_type": "stream",
     "text": [
      "=3\n"
     ]
    }
   ],
   "source": [
    "encoder_input = np.array(data['text']) # 인코더의 입력\n",
    "decoder_input = np.array(data['decoder_input']) # 디코더의 입력\n",
    "decoder_target = np.array(data['decoder_target']) # 디코더의 레이블\n",
    "print('=3')"
   ]
  },
  {
   "cell_type": "code",
   "execution_count": 22,
   "id": "302842cc",
   "metadata": {},
   "outputs": [
    {
     "name": "stdout",
     "output_type": "stream",
     "text": [
      "[69191 34825 60197 ... 22337 76707  7161]\n"
     ]
    }
   ],
   "source": [
    "indices = np.arange(encoder_input.shape[0])\n",
    "np.random.shuffle(indices)\n",
    "print(indices)"
   ]
  },
  {
   "cell_type": "code",
   "execution_count": 23,
   "id": "fd256f5f",
   "metadata": {
    "scrolled": true
   },
   "outputs": [
    {
     "name": "stdout",
     "output_type": "stream",
     "text": [
      "=3\n"
     ]
    }
   ],
   "source": [
    "encoder_input = encoder_input[indices]\n",
    "decoder_input = decoder_input[indices]\n",
    "decoder_target = decoder_target[indices]\n",
    "print('=3')"
   ]
  },
  {
   "cell_type": "markdown",
   "id": "431d882b",
   "metadata": {},
   "source": [
    "### 전체 데이터에서 8:2로 train test set 분리"
   ]
  },
  {
   "cell_type": "code",
   "execution_count": 24,
   "id": "b8ac0b2b",
   "metadata": {},
   "outputs": [
    {
     "name": "stdout",
     "output_type": "stream",
     "text": [
      "테스트 데이터의 수 : 19672\n"
     ]
    }
   ],
   "source": [
    "n_of_val = int(len(encoder_input)*0.2)\n",
    "print('테스트 데이터의 수 :', n_of_val)"
   ]
  },
  {
   "cell_type": "code",
   "execution_count": 25,
   "id": "199b9f12",
   "metadata": {},
   "outputs": [
    {
     "name": "stdout",
     "output_type": "stream",
     "text": [
      "훈련 데이터의 개수 : 78688\n",
      "훈련 레이블의 개수 : 78688\n",
      "테스트 데이터의 개수 : 19672\n",
      "테스트 레이블의 개수 : 19672\n"
     ]
    }
   ],
   "source": [
    "encoder_input_train = encoder_input[:-n_of_val]\n",
    "decoder_input_train = decoder_input[:-n_of_val]\n",
    "decoder_target_train = decoder_target[:-n_of_val]\n",
    "\n",
    "encoder_input_test = encoder_input[-n_of_val:]\n",
    "decoder_input_test = decoder_input[-n_of_val:]\n",
    "decoder_target_test = decoder_target[-n_of_val:]\n",
    "\n",
    "print('훈련 데이터의 개수 :', len(encoder_input_train))\n",
    "print('훈련 레이블의 개수 :', len(decoder_input_train))\n",
    "print('테스트 데이터의 개수 :', len(encoder_input_test))\n",
    "print('테스트 레이블의 개수 :', len(decoder_input_test))"
   ]
  },
  {
   "cell_type": "markdown",
   "id": "e12e6b59",
   "metadata": {},
   "source": [
    "### 단어 집합 만들기 및 정수 인코딩"
   ]
  },
  {
   "cell_type": "code",
   "execution_count": 26,
   "id": "026c17f2",
   "metadata": {},
   "outputs": [
    {
     "name": "stdout",
     "output_type": "stream",
     "text": [
      "=3\n"
     ]
    }
   ],
   "source": [
    "src_tokenizer = Tokenizer() # 토크나이저 정의\n",
    "src_tokenizer.fit_on_texts(encoder_input_train) # 입력된 데이터로부터 단어 집합 생성\n",
    "print('=3')"
   ]
  },
  {
   "cell_type": "code",
   "execution_count": 27,
   "id": "28c17a13",
   "metadata": {},
   "outputs": [
    {
     "name": "stdout",
     "output_type": "stream",
     "text": [
      "단어 집합(vocabulary)의 크기 : 69694\n",
      "등장 빈도가 6번 이하인 희귀 단어의 수: 47517\n",
      "단어 집합에서 희귀 단어를 제외시킬 경우의 단어 집합의 크기 22177\n",
      "단어 집합에서 희귀 단어의 비율: 68.17947025568915\n",
      "전체 등장 빈도에서 희귀 단어 등장 빈도 비율: 3.49053405899029\n"
     ]
    }
   ],
   "source": [
    "threshold = 7\n",
    "total_cnt = len(src_tokenizer.word_index) # 단어의 수\n",
    "rare_cnt = 0 # 등장 빈도수가 threshold보다 작은 단어의 개수를 카운트\n",
    "total_freq = 0 # 훈련 데이터의 전체 단어 빈도수 총 합\n",
    "rare_freq = 0 # 등장 빈도수가 threshold보다 작은 단어의 등장 빈도수의 총 합\n",
    "\n",
    "# 단어와 빈도수의 쌍(pair)을 key와 value로 받는다.\n",
    "for key, value in src_tokenizer.word_counts.items():\n",
    "    total_freq = total_freq + value\n",
    "\n",
    "    # 단어의 등장 빈도수가 threshold보다 작으면\n",
    "    if(value < threshold):\n",
    "        rare_cnt = rare_cnt + 1\n",
    "        rare_freq = rare_freq + value\n",
    "\n",
    "print('단어 집합(vocabulary)의 크기 :', total_cnt)\n",
    "print('등장 빈도가 %s번 이하인 희귀 단어의 수: %s'%(threshold - 1, rare_cnt))\n",
    "print('단어 집합에서 희귀 단어를 제외시킬 경우의 단어 집합의 크기 %s'%(total_cnt - rare_cnt))\n",
    "print(\"단어 집합에서 희귀 단어의 비율:\", (rare_cnt / total_cnt)*100)\n",
    "print(\"전체 등장 빈도에서 희귀 단어 등장 빈도 비율:\", (rare_freq / total_freq)*100)"
   ]
  },
  {
   "cell_type": "code",
   "execution_count": 28,
   "id": "785e594c",
   "metadata": {},
   "outputs": [
    {
     "name": "stdout",
     "output_type": "stream",
     "text": [
      "=3\n"
     ]
    }
   ],
   "source": [
    "src_vocab = 8000\n",
    "src_tokenizer = Tokenizer(num_words=src_vocab) # 단어 집합의 크기를 8,000으로 제한\n",
    "src_tokenizer.fit_on_texts(encoder_input_train) # 단어 집합 재생성\n",
    "print('=3')"
   ]
  },
  {
   "cell_type": "code",
   "execution_count": 29,
   "id": "fa13fada",
   "metadata": {},
   "outputs": [
    {
     "name": "stdout",
     "output_type": "stream",
     "text": [
      "[[11, 2556, 200, 59, 1373, 349, 111, 264, 120, 2262, 4763, 2636, 2745, 1846, 1536, 137, 265, 1225, 2298, 3184, 349, 114, 1225, 1, 4763, 4290, 975], [348, 5717, 409, 1, 512, 318, 2557, 5399, 1198, 755, 5600, 28, 3098, 6268, 266, 1, 211, 2649, 7178, 1352, 348, 16, 1762, 1181, 2334, 146], [5204, 140, 5204, 1335, 2242, 782, 877, 506, 2243, 3473, 1932, 963, 4189, 185, 5, 5104, 3757, 226, 919, 5204, 4190, 7359, 2500, 119, 20]]\n"
     ]
    }
   ],
   "source": [
    "# 텍스트 시퀀스를 정수 시퀀스로 변환\n",
    "encoder_input_train = src_tokenizer.texts_to_sequences(encoder_input_train) \n",
    "encoder_input_test = src_tokenizer.texts_to_sequences(encoder_input_test)\n",
    "\n",
    "# 잘 진행되었는지 샘플 출력\n",
    "print(encoder_input_train[:3])"
   ]
  },
  {
   "cell_type": "code",
   "execution_count": 30,
   "id": "cbdcea5a",
   "metadata": {},
   "outputs": [
    {
     "name": "stdout",
     "output_type": "stream",
     "text": [
      "=3\n"
     ]
    }
   ],
   "source": [
    "tar_tokenizer = Tokenizer()\n",
    "tar_tokenizer.fit_on_texts(decoder_input_train)\n",
    "print('=3')"
   ]
  },
  {
   "cell_type": "code",
   "execution_count": 31,
   "id": "23bc1bc8",
   "metadata": {},
   "outputs": [
    {
     "name": "stdout",
     "output_type": "stream",
     "text": [
      "단어 집합(vocabulary)의 크기 : 29992\n",
      "등장 빈도가 5번 이하인 희귀 단어의 수: 19697\n",
      "단어 집합에서 희귀 단어를 제외시킬 경우의 단어 집합의 크기 10295\n",
      "단어 집합에서 희귀 단어의 비율: 65.67417978127501\n",
      "전체 등장 빈도에서 희귀 단어 등장 빈도 비율: 5.877456683506548\n"
     ]
    }
   ],
   "source": [
    "threshold = 6\n",
    "total_cnt = len(tar_tokenizer.word_index) # 단어의 수\n",
    "rare_cnt = 0 # 등장 빈도수가 threshold보다 작은 단어의 개수를 카운트\n",
    "total_freq = 0 # 훈련 데이터의 전체 단어 빈도수 총 합\n",
    "rare_freq = 0 # 등장 빈도수가 threshold보다 작은 단어의 등장 빈도수의 총 합\n",
    "\n",
    "# 단어와 빈도수의 쌍(pair)을 key와 value로 받는다.\n",
    "for key, value in tar_tokenizer.word_counts.items():\n",
    "    total_freq = total_freq + value\n",
    "\n",
    "    # 단어의 등장 빈도수가 threshold보다 작으면\n",
    "    if(value < threshold):\n",
    "        rare_cnt = rare_cnt + 1\n",
    "        rare_freq = rare_freq + value\n",
    "\n",
    "print('단어 집합(vocabulary)의 크기 :', total_cnt)\n",
    "print('등장 빈도가 %s번 이하인 희귀 단어의 수: %s'%(threshold - 1, rare_cnt))\n",
    "print('단어 집합에서 희귀 단어를 제외시킬 경우의 단어 집합의 크기 %s'%(total_cnt - rare_cnt))\n",
    "print(\"단어 집합에서 희귀 단어의 비율:\", (rare_cnt / total_cnt)*100)\n",
    "print(\"전체 등장 빈도에서 희귀 단어 등장 빈도 비율:\", (rare_freq / total_freq)*100)"
   ]
  },
  {
   "cell_type": "code",
   "execution_count": 32,
   "id": "d79b6eba",
   "metadata": {
    "scrolled": true
   },
   "outputs": [
    {
     "name": "stdout",
     "output_type": "stream",
     "text": [
      "input\n",
      "input  [[1, 397, 909, 204, 1938, 874, 83], [1, 51, 1905, 23, 1270, 41, 104], [1, 252, 25], [1, 825, 1271, 387, 5, 1224, 1879], [1, 117, 1711, 104, 11, 121]]\n",
      "target\n",
      "decoder  [[397, 909, 204, 1938, 874, 83, 2], [51, 1905, 23, 1270, 41, 104, 2], [252, 25, 2], [825, 1271, 387, 5, 1224, 1879, 2], [117, 1711, 104, 11, 121, 2]]\n"
     ]
    }
   ],
   "source": [
    "tar_vocab = 2000\n",
    "tar_tokenizer = Tokenizer(num_words=tar_vocab) \n",
    "tar_tokenizer.fit_on_texts(decoder_input_train)\n",
    "tar_tokenizer.fit_on_texts(decoder_target_train)\n",
    "\n",
    "# 텍스트 시퀀스를 정수 시퀀스로 변환\n",
    "decoder_input_train = tar_tokenizer.texts_to_sequences(decoder_input_train) \n",
    "decoder_target_train = tar_tokenizer.texts_to_sequences(decoder_target_train)\n",
    "decoder_input_test = tar_tokenizer.texts_to_sequences(decoder_input_test)\n",
    "decoder_target_test = tar_tokenizer.texts_to_sequences(decoder_target_test)\n",
    "\n",
    "# 잘 변환되었는지 확인\n",
    "print('input')\n",
    "print('input ',decoder_input_train[:5])\n",
    "print('target')\n",
    "print('decoder ',decoder_target_train[:5])"
   ]
  },
  {
   "cell_type": "markdown",
   "id": "54e0afb8",
   "metadata": {},
   "source": [
    "drop 샘플들 삭제 후 데이터 개수 재확인"
   ]
  },
  {
   "cell_type": "code",
   "execution_count": 33,
   "id": "8935731d",
   "metadata": {},
   "outputs": [
    {
     "name": "stdout",
     "output_type": "stream",
     "text": [
      "삭제할 훈련 데이터의 개수 : 257\n",
      "삭제할 테스트 데이터의 개수 : 62\n",
      "훈련 데이터의 개수 : 78431\n",
      "훈련 레이블의 개수 : 78431\n",
      "테스트 데이터의 개수 : 19610\n",
      "테스트 레이블의 개수 : 19610\n"
     ]
    }
   ],
   "source": [
    "drop_train = [index for index, sentence in enumerate(decoder_input_train) if len(sentence) == 1]\n",
    "drop_test = [index for index, sentence in enumerate(decoder_input_test) if len(sentence) == 1]\n",
    "\n",
    "print('삭제할 훈련 데이터의 개수 :', len(drop_train))\n",
    "print('삭제할 테스트 데이터의 개수 :', len(drop_test))\n",
    "\n",
    "encoder_input_train = [sentence for index, sentence in enumerate(encoder_input_train) if index not in drop_train]\n",
    "decoder_input_train = [sentence for index, sentence in enumerate(decoder_input_train) if index not in drop_train]\n",
    "decoder_target_train = [sentence for index, sentence in enumerate(decoder_target_train) if index not in drop_train]\n",
    "\n",
    "encoder_input_test = [sentence for index, sentence in enumerate(encoder_input_test) if index not in drop_test]\n",
    "decoder_input_test = [sentence for index, sentence in enumerate(decoder_input_test) if index not in drop_test]\n",
    "decoder_target_test = [sentence for index, sentence in enumerate(decoder_target_test) if index not in drop_test]\n",
    "\n",
    "print('훈련 데이터의 개수 :', len(encoder_input_train))\n",
    "print('훈련 레이블의 개수 :', len(decoder_input_train))\n",
    "print('테스트 데이터의 개수 :', len(encoder_input_test))\n",
    "print('테스트 레이블의 개수 :', len(decoder_input_test))"
   ]
  },
  {
   "cell_type": "markdown",
   "id": "4099503e",
   "metadata": {},
   "source": [
    "패딩"
   ]
  },
  {
   "cell_type": "code",
   "execution_count": 35,
   "id": "4bef096c",
   "metadata": {},
   "outputs": [
    {
     "name": "stdout",
     "output_type": "stream",
     "text": [
      "텍스트의 최소 길이 : 1\n",
      "텍스트의 최대 길이 : 60\n",
      "텍스트의 평균 길이 : 35.09968483123221\n",
      "요약의 최소 길이 : 1\n",
      "요약의 최대 길이 : 13\n",
      "요약의 평균 길이 : 7.136183407889386\n"
     ]
    },
    {
     "data": {
      "image/png": "[encoded data removed]",
      "text/plain": [
       "<Figure size 432x288 with 2 Axes>"
      ]
     },
     "metadata": {
      "needs_background": "light"
     },
     "output_type": "display_data"
    },
    {
     "data": {
      "image/png": "[encoded data removed]",
      "text/plain": [
       "<Figure size 432x288 with 1 Axes>"
      ]
     },
     "metadata": {
      "needs_background": "light"
     },
     "output_type": "display_data"
    },
    {
     "data": {
      "image/png": "[encoded data removed]",
      "text/plain": [
       "<Figure size 432x288 with 1 Axes>"
      ]
     },
     "metadata": {
      "needs_background": "light"
     },
     "output_type": "display_data"
    }
   ],
   "source": [
    "# 길이 분포 출력\n",
    "import matplotlib.pyplot as plt\n",
    "\n",
    "text_len = [len(s.split()) for s in data['text']]\n",
    "headlines_len = [len(s.split()) for s in data['headlines']]\n",
    "\n",
    "print('텍스트의 최소 길이 : {}'.format(np.min(text_len)))\n",
    "print('텍스트의 최대 길이 : {}'.format(np.max(text_len)))\n",
    "print('텍스트의 평균 길이 : {}'.format(np.mean(text_len)))\n",
    "print('요약의 최소 길이 : {}'.format(np.min(headlines_len)))\n",
    "print('요약의 최대 길이 : {}'.format(np.max(headlines_len)))\n",
    "print('요약의 평균 길이 : {}'.format(np.mean(headlines_len)))\n",
    "\n",
    "plt.subplot(1,2,1)\n",
    "plt.boxplot(text_len)\n",
    "plt.title('text')\n",
    "plt.subplot(1,2,2)\n",
    "plt.boxplot(headlines_len)\n",
    "plt.title('headlines')\n",
    "plt.tight_layout()\n",
    "plt.show()\n",
    "\n",
    "plt.title('text')\n",
    "plt.hist(text_len, bins = 40)\n",
    "plt.xlabel('length of samples')\n",
    "plt.ylabel('number of samples')\n",
    "plt.show()\n",
    "\n",
    "plt.title('headlines')\n",
    "plt.hist(headlines_len, bins = 40)\n",
    "plt.xlabel('length of samples')\n",
    "plt.ylabel('number of samples')\n",
    "plt.show()"
   ]
  },
  {
   "cell_type": "code",
   "execution_count": 37,
   "id": "dc5cd025",
   "metadata": {},
   "outputs": [
    {
     "name": "stdout",
     "output_type": "stream",
     "text": [
      "=3\n"
     ]
    }
   ],
   "source": [
    "text_max_len = 60\n",
    "headlines_max_len = 13\n",
    "encoder_input_train = pad_sequences(encoder_input_train, maxlen=text_max_len, padding='post')\n",
    "encoder_input_test = pad_sequences(encoder_input_test, maxlen=text_max_len, padding='post')\n",
    "decoder_input_train = pad_sequences(decoder_input_train, maxlen=headlines_max_len, padding='post')\n",
    "decoder_target_train = pad_sequences(decoder_target_train, maxlen=headlines_max_len, padding='post')\n",
    "decoder_input_test = pad_sequences(decoder_input_test, maxlen=headlines_max_len, padding='post')\n",
    "decoder_target_test = pad_sequences(decoder_target_test, maxlen=headlines_max_len, padding='post')\n",
    "print('=3')"
   ]
  },
  {
   "cell_type": "markdown",
   "id": "2c7d8d60",
   "metadata": {},
   "source": [
    "## 3. 어텐션 메커니즘 사용하기\n",
    "- 어텐션 메커니즘을 사용한 seq2seq 설계"
   ]
  },
  {
   "cell_type": "code",
   "execution_count": 38,
   "id": "71c4a06e",
   "metadata": {},
   "outputs": [],
   "source": [
    "from tensorflow.keras.layers import Input, LSTM, Embedding, Dense, Concatenate, TimeDistributed\n",
    "from tensorflow.keras.models import Model\n",
    "from tensorflow.keras.callbacks import EarlyStopping, ModelCheckpoint\n",
    "\n",
    "\n",
    "# 인코더 설계 시작\n",
    "embedding_dim = 128\n",
    "hidden_size = 256\n",
    "\n",
    "# 인코더\n",
    "encoder_inputs = Input(shape=(text_max_len,))\n",
    "\n",
    "# 인코더의 임베딩 층\n",
    "enc_emb = Embedding(src_vocab, embedding_dim)(encoder_inputs)\n",
    "\n",
    "# 인코더의 LSTM 1\n",
    "# encoder_lstm1 = LSTM(hidden_size, return_sequences=True, return_state=True ,dropout = 0.4, recurrent_dropout = 0.4)\n",
    "encoder_lstm1 = LSTM(hidden_size, return_sequences=True, return_state=True ,dropout = 0.4)\n",
    "encoder_output1, state_h1, state_c1 = encoder_lstm1(enc_emb)\n",
    "\n",
    "# 인코더의 LSTM 2\n",
    "encoder_lstm2 = LSTM(hidden_size, return_sequences=True, return_state=True ,dropout = 0.4)\n",
    "encoder_output2, state_h2, state_c2 = encoder_lstm2(enc_emb)\n",
    "\n",
    "# 인코더의 LSTM 3\n",
    "encoder_lstm3 = LSTM(hidden_size, return_sequences=True, return_state=True ,dropout = 0.4)\n",
    "encoder_output3, state_h3, state_c3 = encoder_lstm3(enc_emb)"
   ]
  },
  {
   "cell_type": "code",
   "execution_count": 41,
   "id": "0c988e0c",
   "metadata": {},
   "outputs": [],
   "source": [
    "# 디코더 설계\n",
    "decoder_inputs = Input(shape=(None,))\n",
    "\n",
    "# 디코더의 임베딩 층\n",
    "dec_emb_layer = Embedding(tar_vocab, embedding_dim)\n",
    "dec_emb = dec_emb_layer(decoder_inputs)\n",
    "\n",
    "# 디코더의 LSTM\n",
    "# decoder_lstm = LSTM(hidden_size, return_sequences=True, return_state=True, dropout=0.4, recurrent_dropout=0.2)\n",
    "decoder_lstm = LSTM(hidden_size, return_sequences=True, return_state=True, dropout=0.4)\n",
    "decoder_outputs, _, _ = decoder_lstm(dec_emb, initial_state=[state_h1, state_c1])"
   ]
  },
  {
   "cell_type": "code",
   "execution_count": 42,
   "id": "8c851396",
   "metadata": {
    "scrolled": true
   },
   "outputs": [
    {
     "name": "stdout",
     "output_type": "stream",
     "text": [
      "Model: \"model\"\n",
      "__________________________________________________________________________________________________\n",
      "Layer (type)                    Output Shape         Param #     Connected to                     \n",
      "==================================================================================================\n",
      "input_1 (InputLayer)            [(None, 60)]         0                                            \n",
      "__________________________________________________________________________________________________\n",
      "input_3 (InputLayer)            [(None, None)]       0                                            \n",
      "__________________________________________________________________________________________________\n",
      "embedding (Embedding)           (None, 60, 128)      1024000     input_1[0][0]                    \n",
      "__________________________________________________________________________________________________\n",
      "embedding_2 (Embedding)         (None, None, 128)    256000      input_3[0][0]                    \n",
      "__________________________________________________________________________________________________\n",
      "lstm (LSTM)                     [(None, 60, 256), (N 394240      embedding[0][0]                  \n",
      "__________________________________________________________________________________________________\n",
      "lstm_6 (LSTM)                   [(None, None, 256),  394240      embedding_2[0][0]                \n",
      "                                                                 lstm[0][1]                       \n",
      "                                                                 lstm[0][2]                       \n",
      "__________________________________________________________________________________________________\n",
      "dense_1 (Dense)                 (None, None, 2000)   514000      lstm_6[0][0]                     \n",
      "==================================================================================================\n",
      "Total params: 2,582,480\n",
      "Trainable params: 2,582,480\n",
      "Non-trainable params: 0\n",
      "__________________________________________________________________________________________________\n"
     ]
    }
   ],
   "source": [
    "# 디코더의 출력층\n",
    "decoder_softmax_layer = Dense(tar_vocab, activation='softmax')\n",
    "decoder_softmax_outputs = decoder_softmax_layer(decoder_outputs) \n",
    "\n",
    "# 모델 정의\n",
    "model = Model([encoder_inputs, decoder_inputs], decoder_softmax_outputs)\n",
    "model.summary()"
   ]
  },
  {
   "cell_type": "markdown",
   "id": "a8986397",
   "metadata": {},
   "source": [
    "#### 어텐션 메커니즘"
   ]
  },
  {
   "cell_type": "code",
   "execution_count": 43,
   "id": "c187522b",
   "metadata": {},
   "outputs": [
    {
     "name": "stdout",
     "output_type": "stream",
     "text": [
      "Model: \"model_1\"\n",
      "__________________________________________________________________________________________________\n",
      "Layer (type)                    Output Shape         Param #     Connected to                     \n",
      "==================================================================================================\n",
      "input_1 (InputLayer)            [(None, 60)]         0                                            \n",
      "__________________________________________________________________________________________________\n",
      "input_3 (InputLayer)            [(None, None)]       0                                            \n",
      "__________________________________________________________________________________________________\n",
      "embedding (Embedding)           (None, 60, 128)      1024000     input_1[0][0]                    \n",
      "__________________________________________________________________________________________________\n",
      "embedding_2 (Embedding)         (None, None, 128)    256000      input_3[0][0]                    \n",
      "__________________________________________________________________________________________________\n",
      "lstm (LSTM)                     [(None, 60, 256), (N 394240      embedding[0][0]                  \n",
      "__________________________________________________________________________________________________\n",
      "lstm_6 (LSTM)                   [(None, None, 256),  394240      embedding_2[0][0]                \n",
      "                                                                 lstm[0][1]                       \n",
      "                                                                 lstm[0][2]                       \n",
      "__________________________________________________________________________________________________\n",
      "attention_layer (AdditiveAttent (None, None, 256)    256         lstm_6[0][0]                     \n",
      "                                                                 lstm[0][0]                       \n",
      "__________________________________________________________________________________________________\n",
      "concat_layer (Concatenate)      (None, None, 512)    0           lstm_6[0][0]                     \n",
      "                                                                 attention_layer[0][0]            \n",
      "__________________________________________________________________________________________________\n",
      "dense_2 (Dense)                 (None, None, 2000)   1026000     concat_layer[0][0]               \n",
      "==================================================================================================\n",
      "Total params: 3,094,736\n",
      "Trainable params: 3,094,736\n",
      "Non-trainable params: 0\n",
      "__________________________________________________________________________________________________\n"
     ]
    }
   ],
   "source": [
    "from tensorflow.keras.layers import AdditiveAttention\n",
    "\n",
    "# 어텐션 층(어텐션 함수)\n",
    "attn_layer = AdditiveAttention(name='attention_layer')\n",
    "\n",
    "# 인코더와 디코더의 모든 time step의 hidden state를 어텐션 층에 전달하고 결과를 리턴\n",
    "attn_out = attn_layer([decoder_outputs, encoder_output1])\n",
    "\n",
    "\n",
    "# 어텐션의 결과와 디코더의 hidden state들을 연결\n",
    "decoder_concat_input = Concatenate(axis=-1, name='concat_layer')([decoder_outputs, attn_out])\n",
    "\n",
    "# 디코더의 출력층\n",
    "decoder_softmax_layer = Dense(tar_vocab, activation='softmax')\n",
    "decoder_softmax_outputs = decoder_softmax_layer(decoder_concat_input)\n",
    "\n",
    "# 모델 정의\n",
    "model = Model([encoder_inputs, decoder_inputs], decoder_softmax_outputs)\n",
    "model.summary()"
   ]
  },
  {
   "cell_type": "code",
   "execution_count": 44,
   "id": "181aaabb",
   "metadata": {},
   "outputs": [
    {
     "name": "stdout",
     "output_type": "stream",
     "text": [
      "Epoch 1/50\n",
      "307/307 [==============================] - 21s 51ms/step - loss: 2.8178 - val_loss: 2.5983\n",
      "Epoch 2/50\n",
      "307/307 [==============================] - 15s 49ms/step - loss: 2.4949 - val_loss: 2.3672\n",
      "Epoch 3/50\n",
      "307/307 [==============================] - 15s 49ms/step - loss: 2.2932 - val_loss: 2.2294\n",
      "Epoch 4/50\n",
      "307/307 [==============================] - 15s 49ms/step - loss: 2.1438 - val_loss: 2.0957\n",
      "Epoch 5/50\n",
      "307/307 [==============================] - 15s 50ms/step - loss: 2.0243 - val_loss: 2.0055\n",
      "Epoch 6/50\n",
      "307/307 [==============================] - 15s 50ms/step - loss: 1.9273 - val_loss: 1.9362\n",
      "Epoch 7/50\n",
      "307/307 [==============================] - 16s 51ms/step - loss: 1.8454 - val_loss: 1.8773\n",
      "Epoch 8/50\n",
      "307/307 [==============================] - 16s 51ms/step - loss: 1.7735 - val_loss: 1.8279\n",
      "Epoch 9/50\n",
      "307/307 [==============================] - 16s 52ms/step - loss: 1.7091 - val_loss: 1.7900\n",
      "Epoch 10/50\n",
      "307/307 [==============================] - 16s 52ms/step - loss: 1.6494 - val_loss: 1.7538\n",
      "Epoch 11/50\n",
      "307/307 [==============================] - 16s 51ms/step - loss: 1.5945 - val_loss: 1.7225\n",
      "Epoch 12/50\n",
      "307/307 [==============================] - 16s 51ms/step - loss: 1.5439 - val_loss: 1.6989\n",
      "Epoch 13/50\n",
      "307/307 [==============================] - 16s 51ms/step - loss: 1.4978 - val_loss: 1.6817\n",
      "Epoch 14/50\n",
      "307/307 [==============================] - 16s 51ms/step - loss: 1.4539 - val_loss: 1.6585\n",
      "Epoch 15/50\n",
      "307/307 [==============================] - 16s 52ms/step - loss: 1.4146 - val_loss: 1.6385\n",
      "Epoch 16/50\n",
      "307/307 [==============================] - 16s 51ms/step - loss: 1.3771 - val_loss: 1.6254\n",
      "Epoch 17/50\n",
      "307/307 [==============================] - 16s 51ms/step - loss: 1.3426 - val_loss: 1.6162\n",
      "Epoch 18/50\n",
      "307/307 [==============================] - 16s 51ms/step - loss: 1.3101 - val_loss: 1.6091\n",
      "Epoch 19/50\n",
      "307/307 [==============================] - 16s 51ms/step - loss: 1.2791 - val_loss: 1.5991\n",
      "Epoch 20/50\n",
      "307/307 [==============================] - 16s 51ms/step - loss: 1.2508 - val_loss: 1.5920\n",
      "Epoch 21/50\n",
      "307/307 [==============================] - 16s 51ms/step - loss: 1.2238 - val_loss: 1.5870\n",
      "Epoch 22/50\n",
      "307/307 [==============================] - 16s 51ms/step - loss: 1.1980 - val_loss: 1.5841\n",
      "Epoch 23/50\n",
      "307/307 [==============================] - 16s 51ms/step - loss: 1.1744 - val_loss: 1.5795\n",
      "Epoch 24/50\n",
      "307/307 [==============================] - 16s 51ms/step - loss: 1.1519 - val_loss: 1.5794\n",
      "Epoch 25/50\n",
      "307/307 [==============================] - 16s 51ms/step - loss: 1.1302 - val_loss: 1.5836\n",
      "Epoch 26/50\n",
      "307/307 [==============================] - 16s 51ms/step - loss: 1.1107 - val_loss: 1.5803\n",
      "Epoch 00026: early stopping\n"
     ]
    }
   ],
   "source": [
    "model.compile(optimizer='rmsprop', loss='sparse_categorical_crossentropy')\n",
    "es = EarlyStopping(monitor='val_loss', patience=2, verbose=1)\n",
    "history = model.fit(x=[encoder_input_train, decoder_input_train], y=decoder_target_train, \\\n",
    "          validation_data=([encoder_input_test, decoder_input_test], decoder_target_test), \\\n",
    "          batch_size=256, callbacks=[es], epochs=50)"
   ]
  },
  {
   "cell_type": "code",
   "execution_count": 45,
   "id": "719c81f4",
   "metadata": {
    "scrolled": true
   },
   "outputs": [
    {
     "data": {
      "image/png": "[encoded data removed]",
      "text/plain": [
       "<Figure size 432x288 with 1 Axes>"
      ]
     },
     "metadata": {
      "needs_background": "light"
     },
     "output_type": "display_data"
    }
   ],
   "source": [
    "plt.plot(history.history['loss'], label='train')\n",
    "plt.plot(history.history['val_loss'], label='test')\n",
    "plt.legend()\n",
    "plt.show()"
   ]
  },
  {
   "cell_type": "markdown",
   "id": "3f4cb3b2",
   "metadata": {},
   "source": [
    "### 인퍼런스 모델 구현하기"
   ]
  },
  {
   "cell_type": "code",
   "execution_count": 77,
   "id": "448fd9af",
   "metadata": {},
   "outputs": [
    {
     "name": "stdout",
     "output_type": "stream",
     "text": [
      "=3\n"
     ]
    }
   ],
   "source": [
    "src_index_to_word = src_tokenizer.index_word # 원문 단어 집합에서 정수 -> 단어를 얻음\n",
    "tar_word_to_index = tar_tokenizer.word_index # 요약 단어 집합에서 단어 -> 정수를 얻음\n",
    "tar_index_to_word = tar_tokenizer.index_word # 요약 단어 집합에서 정수 -> 단어를 얻음\n",
    "\n",
    "print('=3')"
   ]
  },
  {
   "cell_type": "code",
   "execution_count": 78,
   "id": "0404f7da",
   "metadata": {},
   "outputs": [
    {
     "name": "stdout",
     "output_type": "stream",
     "text": [
      "=3\n"
     ]
    }
   ],
   "source": [
    "# 인코더 설계\n",
    "encoder_model = Model(inputs=encoder_inputs, outputs=[encoder_output1, state_h1, state_c1])\n",
    "\n",
    "# 이전 시점의 상태들을 저장하는 텐서\n",
    "decoder_state_input_h = Input(shape=(hidden_size,))\n",
    "decoder_state_input_c = Input(shape=(hidden_size,))\n",
    "\n",
    "dec_emb2 = dec_emb_layer(decoder_inputs)\n",
    "\n",
    "# 문장의 다음 단어를 예측하기 위해서 초기 상태(initial_state)를 이전 시점의 상태로 사용. 이는 뒤의 함수 decode_sequence()에 구현\n",
    "# 훈련 과정에서와 달리 LSTM의 리턴하는 은닉 상태와 셀 상태인 state_h와 state_c를 버리지 않음.\n",
    "decoder_outputs2, state_h2, state_c2 = decoder_lstm(dec_emb2, initial_state=[decoder_state_input_h, decoder_state_input_c])\n",
    "\n",
    "print('=3')"
   ]
  },
  {
   "cell_type": "code",
   "execution_count": 79,
   "id": "d04bcf1d",
   "metadata": {},
   "outputs": [
    {
     "name": "stdout",
     "output_type": "stream",
     "text": [
      "=3\n"
     ]
    }
   ],
   "source": [
    "# 어텐션 함수\n",
    "decoder_hidden_state_input = Input(shape=(text_max_len, hidden_size))\n",
    "attn_out_inf = attn_layer([decoder_outputs2, decoder_hidden_state_input])\n",
    "decoder_inf_concat = Concatenate(axis=-1, name='concat')([decoder_outputs2, attn_out_inf])\n",
    "\n",
    "# 디코더의 출력층\n",
    "decoder_outputs2 = decoder_softmax_layer(decoder_inf_concat) \n",
    "\n",
    "# 최종 디코더 모델\n",
    "decoder_model = Model(\n",
    "    [decoder_inputs] + [decoder_hidden_state_input,decoder_state_input_h, decoder_state_input_c],\n",
    "    [decoder_outputs2] + [state_h2, state_c2])\n",
    "\n",
    "print('=3')"
   ]
  },
  {
   "cell_type": "code",
   "execution_count": 80,
   "id": "a43635b4",
   "metadata": {},
   "outputs": [
    {
     "name": "stdout",
     "output_type": "stream",
     "text": [
      "=3\n"
     ]
    }
   ],
   "source": [
    "def decode_sequence(input_seq):\n",
    "    # 입력으로부터 인코더의 상태를 얻음\n",
    "    e_out, e_h, e_c = encoder_model.predict(input_seq)\n",
    "\n",
    "     # <SOS>에 해당하는 토큰 생성\n",
    "    target_seq = np.zeros((1,1))\n",
    "    target_seq[0, 0] = tar_word_to_index['sostoken']\n",
    "\n",
    "    stop_condition = False\n",
    "    decoded_sentence = ''\n",
    "    while not stop_condition: # stop_condition이 True가 될 때까지 루프 반복\n",
    "\n",
    "        output_tokens, h, c = decoder_model.predict([target_seq] + [e_out, e_h, e_c])\n",
    "        sampled_token_index = np.argmax(output_tokens[0, -1, :])\n",
    "        sampled_token = tar_index_to_word[sampled_token_index]\n",
    "\n",
    "        if (sampled_token!='eostoken'):\n",
    "            decoded_sentence += ' '+sampled_token\n",
    "\n",
    "        #  <eos>에 도달하거나 최대 길이를 넘으면 중단.\n",
    "        if (sampled_token == 'eostoken'  or len(decoded_sentence.split()) >= (summary_max_len-1)):\n",
    "            stop_condition = True\n",
    "\n",
    "        # 길이가 1인 타겟 시퀀스를 업데이트\n",
    "        target_seq = np.zeros((1,1))\n",
    "        target_seq[0, 0] = sampled_token_index\n",
    "\n",
    "        # 상태를 업데이트 합니다.\n",
    "        e_h, e_c = h, c\n",
    "\n",
    "    return decoded_sentence\n",
    "print('=3')"
   ]
  },
  {
   "cell_type": "code",
   "execution_count": 81,
   "id": "b1402fff",
   "metadata": {},
   "outputs": [
    {
     "name": "stdout",
     "output_type": "stream",
     "text": [
      "=3\n"
     ]
    }
   ],
   "source": [
    "# 원문의 정수 시퀀스를 텍스트 시퀀스로 변환\n",
    "def seq2text(input_seq):\n",
    "    temp=''\n",
    "    for i in input_seq:\n",
    "        if (i!=0):\n",
    "            temp = temp + src_index_to_word[i]+' '\n",
    "    return temp\n",
    "\n",
    "# 요약문의 정수 시퀀스를 텍스트 시퀀스로 변환\n",
    "def seq2summary(input_seq):\n",
    "    temp=''\n",
    "    for i in input_seq:\n",
    "        if ((i!=0 and i!=tar_word_to_index['sostoken']) and i!=tar_word_to_index['eostoken']):\n",
    "            temp = temp + tar_index_to_word[i] + ' '\n",
    "    return temp\n",
    "\n",
    "print('=3')"
   ]
  },
  {
   "cell_type": "markdown",
   "id": "ca2129ea",
   "metadata": {},
   "source": [
    "## 4. 실제 결과와 요약문 비교하기"
   ]
  },
  {
   "cell_type": "code",
   "execution_count": 83,
   "id": "cc04c15a",
   "metadata": {
    "scrolled": false
   },
   "outputs": [
    {
     "name": "stdout",
     "output_type": "stream",
     "text": [
      "원문 : government appointed senior advocate mehta general india till june post second highest ranking law officer government fallen vacant kumar resigned october mehta serving additional general since mid bjp led government came power centre \n",
      "실제 요약 : named general india till june \n",
      "예측 요약 :  govt chief secretary\n",
      "\n",
      "\n",
      "원문 : swedish court thursday sentenced man years prison finding guilty online rape year old man teenagers us canada britain perform sexual acts front first time sweden convicted someone rape internet \n",
      "실제 요약 : man years jail online rape \n",
      "예측 요약 :  man jailed yrs raping yr old\n",
      "\n",
      "\n",
      "원문 : man commented old year old actress lisa ray picture responded tweeting wise cancer survivor living best life hurt adding old society expectations women age ray said another tweet \n",
      "실제 요약 : cancer living best life called old \n",
      "예측 요약 :  woman\n",
      "\n",
      "\n",
      "원문 : johnson johnson agreed pay million resolve charges us states manufacturing practices behind counter drugs claims related many products including children medicines voluntarily recalled settlement announced states district \n",
      "실제 요약 : pay crore lawsuit \n",
      "예측 요약 :  us pay cr compensation\n",
      "\n",
      "\n",
      "원문 : criticising pm narendra modi centre grant special category status andhra pradesh tdp mla said come face people beat make run even hide bharat mata begun stay quiet added \n",
      "실제 요약 : andhra mla calls pm modi special status \n",
      "예측 요약 :  andhra cm status special status andhra\n",
      "\n",
      "\n",
      "원문 : bill gates foundation agreed pay nigeria million debt japan loan taken period years decision came african nation met condition achieving coverage least one round year high risk areas \n",
      "실제 요약 : gates million debt \n",
      "예측 요약 :  bill gates pay cr\n",
      "\n",
      "\n",
      "원문 : facebook wednesday introduced subscription groups allow charge exclusive content groups cooking home cleaning private groups platform first ones access feature pilot mode group reportedly able charge per month testing phase \n",
      "실제 요약 : facebook let group charge content \n",
      "예측 요약 :  facebook launches\n",
      "\n",
      "\n",
      "원문 : four men posing police officers kerala bound bus passengers onboard near bengaluru friday accused locked bus run away passengers called police later arrested claimed finance company sent recover money vehicle owner \n",
      "실제 요약 : bus passengers taka loan \n",
      "예측 요약 :  bus driver arrested bus\n",
      "\n",
      "\n",
      "원문 : operation apple australian consumer watchdog revealed staff repeatedly iphone customers error watchdog said staff wrongly denied consumers free repair taken devices unauthorised third party error many iphones \n",
      "실제 요약 : reveals apple staff users \n",
      "예측 요약 :  apple admits iphone\n",
      "\n",
      "\n",
      "원문 : fan allegedly hacked facebook social media accounts indian pacer mohammed sent love messages pacer friends following complaint police tracked found year old boy whose brother friend later took instagram thanked telangana police recovering accounts \n",
      "실제 요약 : fan india pacer fb account sends love \n",
      "예측 요약 :  media account hacked post post\n",
      "\n",
      "\n",
      "원문 : indian shiv kapur third asian tour title lifting royal cup thailand sunday year old one asian tour win till april three asian tour titles last eight months kapur first asian tour debut season december \n",
      "실제 요약 : indian shiv wins third asian tour title \n",
      "예측 요약 :  wins asian ship\n",
      "\n",
      "\n",
      "원문 : least five people killed several others injured bus rammed pedestrians russian capital moscow cctv footage shows bus time underground authorities detained bus driver said bus began move system \n",
      "실제 요약 : killed bus russia \n",
      "예측 요약 :  killed injured bus attack\n",
      "\n",
      "\n",
      "원문 : lakhs endangered found buried odisha beach made sand prevented baby getting one crore expected lakh babies emerged till notably one thousand become adult \n",
      "실제 요약 : baby alive odisha storm \n",
      "예측 요약 :  odisha beach finds\n",
      "\n",
      "\n",
      "원문 : batra bagged four medals commonwealth games april become first indian woman win medal table tennis asian games year old achieved feat bronze medal along kamal mixed doubles event wednesday medal india second ever table tennis history \n",
      "실제 요약 : st indian woman win medal tennis asiad \n",
      "예측 요약 :  india win st cwg gold\n",
      "\n",
      "\n",
      "원문 : income tax department reportedly slapped tax notice crore congress leaders sonia gandhi rahul gandhi relating national case report mentioned sonia gandhi rahul gandhi escaped crore crore respectively year rahul declared income worth lakh \n",
      "실제 요약 : crore tax notice sonia rahul national report \n",
      "예측 요약 :  dept rahul gandhi cr tax sonia gandhi\n",
      "\n",
      "\n",
      "원문 : rbi monetary policy committee third monthly monetary policy review wednesday hiked rate second time row june policy meet rate hiked basis points rate rate rbi money commercial banks \n",
      "실제 요약 : rbi rate second time row \n",
      "예측 요약 :  rbi policy\n",
      "\n",
      "\n",
      "원문 : russia arena host four world cup matches two temporary stands outside stadium fulfil fifa minimum capacity criteria change see stadium original capacity reach duration month long tournament fifa rules require world cup minimum capacity \n",
      "실제 요약 : russia makes outside wc stadium meet rule \n",
      "예측 요약 :  world cup russia\n",
      "\n",
      "\n",
      "원문 : prime minister narendra modi two day visit sri lanka thursday comes gap days longest two foreign trips prime minister last went abroad japan november last year longest gap days modi visit nepal november march \n",
      "실제 요약 : pm sri lanka visit comes days last foreign trip \n",
      "예측 요약 :  pm modi days days\n",
      "\n",
      "\n",
      "원문 : snapchat parent company snap friday said laid employees division email sent employees last month snap ceo said company hiring employees rate last month snap reportedly laid dozen employees hardware marketing division \n",
      "실제 요약 : snapchat parent company employees \n",
      "예측 요약 :  employees\n",
      "\n",
      "\n",
      "원문 : saudi arabia embassy us may funded test run attacks according evidence submitted ongoing lawsuit saudi government documents embassy paid two saudi nationals fly washington two years attacks took place part dry run \n",
      "실제 요약 : saudi government run attacks report \n",
      "예측 요약 :  us saudi report\n",
      "\n",
      "\n",
      "원문 : us based scientists found drug used treat may also effective treating people infected virus drug effectively rescued affected cells also blocking transmission virus mice scientists worldwide working team said promising early results \n",
      "실제 요약 : drug may also study \n",
      "예측 요약 :  drug drug\n",
      "\n",
      "\n",
      "원문 : google search results bad chief minister displayed page kerala chief minister pinarayi vijayan phrase searched around times day monday google trends revealed comes amid controversy supreme court verdict allowing women sabarimala temple violent protests kerala \n",
      "실제 요약 : google results show kerala cm bad chief minister \n",
      "예측 요약 :  google search chief\n",
      "\n",
      "\n",
      "원문 : release date amitabh bachchan taapsee pannu starrer announced march taapsee revealing release date tweeted reportedly remake spanish film also known guest directed ghosh \n",
      "실제 요약 : release date amitabh taapsee starrer announced \n",
      "예측 요약 :  release date taapsee starrer\n",
      "\n",
      "\n",
      "원문 : delhi police booked serving army major domestic help alleged raped multiple times woman claimed raped husband away returned major beat couple threatened woman husband allegedly committed suicide threatened army man \n",
      "실제 요약 : army major accused rape domestic help delhi \n",
      "예측 요약 :  delhi rape victim arrested raping woman\n",
      "\n",
      "\n",
      "원문 : india patent office rejected plea last april canadian company patent citing sex violate public order law views sex never engaged sexual office noted adding selling sex considered obscene object hence illegal india \n",
      "실제 요약 : india rejected patent sex saying \n",
      "예측 요약 :  canada court rejects\n",
      "\n",
      "\n",
      "원문 : defence minister nirmala sitharaman slammed doordarshan broadcasting advertisements live musical event paying tribute telugu saint composer ceo shashi shekhar termed incident absolutely unfortunate promised strict action sitharaman earlier expressed happiness watching performances series tweets \n",
      "실제 요약 : slams ads live music \n",
      "예측 요약 :  slams govt slams late pm\n",
      "\n",
      "\n",
      "원문 : war india option talks resolve issues pakistan india pakistan pm shahid abbasi said calling kashmir core issue abbasi said india pakistan relations remain issue resolved abbasi earlier said pakistan intends work india achieve regional stability \n",
      "실제 요약 : war india pakistan pm shahid \n",
      "예측 요약 :  india pak war talks\n",
      "\n",
      "\n",
      "원문 : iran president hassan rouhani saturday said country seek one permission build armed forces missiles aircraft iran never aggressive aims peace one way road rouhani added earlier rouhani faced criticism restrict country nuclear programme exchange lifting economic sanctions \n",
      "실제 요약 : need one build iran president \n",
      "예측 요약 :  iran prez iran\n",
      "\n",
      "\n",
      "원문 : indian football team registered first away win international friendly since win wednesday sunil chhetri scored india chan scored india next face myanmar asian cup march \n",
      "실제 요약 : india register first away win int yrs \n",
      "예측 요약 :  st indian win win last\n",
      "\n",
      "\n",
      "원문 : speaking father rishi kapoor comments wherein slammed director anurag basu ranbir kapoor starrer jagga jasoos ranbir said cannot control always pass harsh message mom never looked father eye always look speak say yes ranbir added \n",
      "실제 요약 : cannot control dad pass messages mom ranbir \n",
      "예측 요약 :  ranbir kapoor\n",
      "\n",
      "\n",
      "원문 : melbourne stars captain john helmet knocked hit heat ben cutting tuesday helmet went land near stumps ball going towards stumps kicked away however unhurt play resumed delay \n",
      "실제 요약 : batsman goes flying \n",
      "예측 요약 :  john\n",
      "\n",
      "\n",
      "원문 : prime minister narendra modi addressing nation occasion independence day women lead lives due triple talaq starting movement practice want tell succeed whole country supports significant step towards women empowerment said \n",
      "실제 요약 : pm modi women triple talaq day \n",
      "예측 요약 :  pm modi triple talaq\n",
      "\n",
      "\n",
      "원문 : jewellery worth crore allegedly stolen shop uttar pradesh kanpur closed five years ago due dispute business partners shop jeweller alleged diamonds kg silver kg gold stolen theft allegedly took place shop court orders \n",
      "실제 요약 : jewellery worth cr stolen yrs ago \n",
      "예측 요약 :  worth crore stolen\n",
      "\n",
      "\n",
      "원문 : cargo ship successfully conducted trial russian arctic shows potential new trade route europe east asia trade route could reduce travel distance kilometres takes go via canal kilometres according reports \n",
      "실제 요약 : ice opens new europe east asia trade \n",
      "예측 요약 :  new zealand nuclear\n",
      "\n",
      "\n",
      "원문 : islamic state supporters social media hailed hurricane soldier god another comes storm claimed lives caused one largest united states us federal emergency management agency warned us makes along us \n",
      "실제 요약 : isis god another \n",
      "예측 요약 :  hurricane\n",
      "\n",
      "\n",
      "원문 : amazon founder world richest person jeff bezos shared childhood picture twitter said lucky exposed tech young age hope new amazon future engineer program kids today added amazon program children young adults \n",
      "실제 요약 : tech young bezos pic \n",
      "예측 요약 :  bezos amazon\n",
      "\n",
      "\n",
      "원문 : india first prime minister jawaharlal nehru predicted atal bihari vajpayee would become prime minister country one day introducing foreign nehru said young man one day become country prime minister vajpayee served pm first time \n",
      "실제 요약 : vajpayee would become pm one day \n",
      "예측 요약 :  vajpayee india late pm vajpayee\n",
      "\n",
      "\n",
      "원문 : assembly session bill guest teachers cm arvind kejriwal said want tell elected cm terrorist anil baijal earlier objected bill passed assembly today kejriwal also slammed bureaucrats saying hum delhi ke hai \n",
      "실제 요약 : elected chief minister terrorist kejriwal \n",
      "예측 요약 :  cm kejriwal says\n",
      "\n",
      "\n",
      "원문 : iran sent five planes food qatar suffering several arab nations cut air transport links country accusing supporting terrorism deliveries would continue long demand iranian officials said three iranian ships loaded fruits vegetables also reportedly set leave qatar \n",
      "실제 요약 : iran sends five planes food qatar amid \n",
      "예측 요약 :  qatar cut amid threat\n",
      "\n",
      "\n",
      "원문 : hindi daily rajasthan wednesday announced report news related chief minister vasundhara raje government ordinance seeking shield government servants editorial editor chief kothari said black law rajasthan government giving tough competition dark days emergency \n",
      "실제 요약 : hindi daily report raj cm till \n",
      "예측 요약 :  rajasthan govt seeks report\n",
      "\n",
      "\n",
      "원문 : police bengaluru registered case year old boy whose video beating mother went viral boy smoking alcohol would attack mother whenever advised change police said fir filed various sections police got undertaking signed \n",
      "실제 요약 : year old boy beats mother police files fir \n",
      "예측 요약 :  bengaluru boy mother\n",
      "\n",
      "\n",
      "원문 : first time since independence government initiated survey maoist controlled area chhattisgarh forest region aerial survey region done recent years ground survey done first time officials said exercise meant enable government build roads push back maoist rebels \n",
      "실제 요약 : govt starts st ever survey chhattisgarh \n",
      "예측 요약 :  govt st time yrs\n",
      "\n",
      "\n",
      "원문 : year old man arrested us state florida drawing depicting mass school shooting found student drawing showed burning school building people outside shot gunman faces charges written threat kill cause harm others \n",
      "실제 요약 : us man held mass shooting child \n",
      "예측 요약 :  us man arrested shooting school\n",
      "\n",
      "\n",
      "원문 : london scotland train offer hotel like experience featuring double private part million new also feature hotel style key card entry introduced next year allows time full day work play statement said \n",
      "실제 요약 : train offer hotel double \n",
      "예측 요약 :  uk firm offers open free\n",
      "\n",
      "\n",
      "원문 : singer cyrus shared newspaper article apologised photo tweeting sorry cyrus said took part photo shoot supposed seeing photographs reading story feel \n",
      "실제 요약 : withdraws pic \n",
      "예측 요약 :  apologises\n",
      "\n",
      "\n",
      "원문 : warning india carrying surgical strikes pakistan nuclear pakistan foreign minister khawaja asif said nobody expect pakistan happens relations two nations lowest added comes indian air force chief bs said india locate strike pakistan nuclear \n",
      "실제 요약 : india hits pakistan \n",
      "예측 요약 :  pakistan warns india us\n",
      "\n",
      "\n",
      "원문 : saif ali khan talking media attention son taimur ali khan gets said wife kareena kapoor khan job keep taimur indian parents like us slightly tough time trying put good moral values basic family values kids grow much attention saif added \n",
      "실제 요약 : job keep saif media \n",
      "예측 요약 :  saif son saif kareena\n",
      "\n",
      "\n",
      "원문 : tuesday country president making first new president country years comes previous president announced retirement chose successor served defence minister earlier vowed attract foreign investment \n",
      "실제 요약 : first new president years \n",
      "예측 요약 :  president president\n",
      "\n",
      "\n",
      "원문 : talking china internet policy apple ceo tim cook said believe strongly core american adding every country world laws regulations said companies left choice either participate stay \n",
      "실제 요약 : apple ceo cook \n",
      "예측 요약 :  apple ceo\n",
      "\n",
      "\n",
      "원문 : british responded tweet mentioned year old girl jammu kashmir wanted meet written dear first generation english would like meet school director tweeted would love send something responded \n",
      "실제 요약 : asks yr old girl \n",
      "예측 요약 :  responds yr old girl\n",
      "\n",
      "\n"
     ]
    }
   ],
   "source": [
    "summary_max_len = 13\n",
    "\n",
    "# encoder_input_test의 크기를 벗어나지 않도록 루프 범위를 수정\n",
    "for i in range(50, 100):\n",
    "    print(\"원문 :\", seq2text(encoder_input_test[i]))\n",
    "    print(\"실제 요약 :\", seq2summary(decoder_input_test[i]))\n",
    "    print(\"예측 요약 :\", decode_sequence(encoder_input_test[i].reshape(1, text_max_len)))\n",
    "    print(\"\\n\")\n"
   ]
  },
  {
   "attachments": {
    "image.png": {
     "image/png": "[encoded data removed]"
    }
   },
   "cell_type": "markdown",
   "id": "73e0100a",
   "metadata": {},
   "source": [
    "### 원문과 요약 비교\n",
    "![image.png](attachment:image.png)\n",
    "맥락이 통하게끔 요약함을 확인 함. 실제 요약과 유사한 주어, 동사 선택으로 문법적 완성도도 높고 맥락이 잘 통한다고 생각."
   ]
  },
  {
   "cell_type": "markdown",
   "id": "a53d9b28",
   "metadata": {},
   "source": [
    "## 5. Summa를 이용해서 추출적 요약해보기"
   ]
  },
  {
   "cell_type": "code",
   "execution_count": 84,
   "id": "85ffe9fa",
   "metadata": {},
   "outputs": [],
   "source": [
    "import requests\n",
    "from summa.summarizer import summarize"
   ]
  },
  {
   "cell_type": "code",
   "execution_count": 85,
   "id": "e2b506f5",
   "metadata": {},
   "outputs": [],
   "source": [
    "text = requests.get('http://rare-technologies.com/the_matrix_synopsis.txt').text"
   ]
  },
  {
   "cell_type": "code",
   "execution_count": 86,
   "id": "7eb2a063",
   "metadata": {},
   "outputs": [
    {
     "name": "stdout",
     "output_type": "stream",
     "text": [
      "The screen is filled with green, cascading code which gives way to the title, The Matrix.\r\n",
      "\r\n",
      "A phone rings and text appears on the screen: \"Call trans opt: received. 2-19-98 13:24:18 REC: Log>\" As a conversation takes place between Trinity (Carrie-Anne Moss) and Cypher (Joe Pantoliano), two free humans, a table of random green numbers are being scanned and individual numbers selected, creating a series of digits not unlike an ordinary phone number, as if a code is being deciphered or a call is being traced.\r\n",
      "\r\n",
      "Trinity discusses some unknown person. Cypher taunts Trinity, suggesting she enjoys watching him. Trinity counters that \"Morpheus (Laurence Fishburne) says he may be 'the One',\" just as the sound of a number being selected alerts Trinity that someone may be tracing their call. She ends the call.\r\n",
      "\r\n",
      "Armed policemen move down a darkened, decrepit hallway in the Heart O' the City Hotel, their flashlight beam bouncing just ahead of them. They come to room 303, kick down the door and find a woman dressed in black, facing away from them. It's Trinity. She brings her hands up from the laptop she's working on at their command.\r\n",
      "\r\n",
      "Outside the hotel a car drives up and three agents appear in neatly pressed black suits. They are Agent Smith (Hugo Weaving), Agent Brown (Paul Goddard), and Agent Jones (Robert Taylor). Agent Smith and the presiding police lieutenant argue. Agent Smith admonishes the policeman that they were given specific orders to contact the agents first, for their\n"
     ]
    }
   ],
   "source": [
    "print(text[:1500])"
   ]
  },
  {
   "cell_type": "code",
   "execution_count": 87,
   "id": "ecc1d698",
   "metadata": {},
   "outputs": [
    {
     "name": "stdout",
     "output_type": "stream",
     "text": [
      "Summary:\n",
      "Morpheus, Trinity, Neo, Apoc, Switch, Mouse and Cypher are jacked into the Matrix.\n",
      "Trinity brings the helicopter down to the floor that Morpheus is on and Neo opens fire on the three Agents.\n"
     ]
    }
   ],
   "source": [
    "print('Summary:')\n",
    "print(summarize(text, ratio=0.005))"
   ]
  },
  {
   "cell_type": "code",
   "execution_count": 88,
   "id": "a4b037ad",
   "metadata": {},
   "outputs": [
    {
     "name": "stdout",
     "output_type": "stream",
     "text": [
      "Summary:\n",
      "['Morpheus, Trinity, Neo, Apoc, Switch, Mouse and Cypher are jacked into the Matrix.', 'Trinity brings the helicopter down to the floor that Morpheus is on and Neo opens fire on the three Agents.']\n"
     ]
    }
   ],
   "source": [
    "print('Summary:')\n",
    "print(summarize(text, ratio=0.005, split=True))"
   ]
  },
  {
   "cell_type": "code",
   "execution_count": 91,
   "id": "f248d418",
   "metadata": {},
   "outputs": [
    {
     "name": "stdout",
     "output_type": "stream",
     "text": [
      "Summary:\n",
      "Trinity takes Neo to Morpheus.\n",
      "Morpheus, Trinity, Neo, Apoc, Switch, Mouse and Cypher are jacked into the Matrix.\n",
      "Trinity brings the helicopter down to the floor that Morpheus is on and Neo opens fire on the three Agents.\n"
     ]
    }
   ],
   "source": [
    "print('Summary:')\n",
    "print(summarize(text, words=40))"
   ]
  },
  {
   "cell_type": "code",
   "execution_count": 93,
   "id": "2d332918",
   "metadata": {},
   "outputs": [
    {
     "name": "stdout",
     "output_type": "stream",
     "text": [
      "summary:\n",
      "Trinity brings the helicopter down to the floor that Morpheus is on and Neo opens fire on the three Agents.\n"
     ]
    }
   ],
   "source": [
    "print('summary:')\n",
    "print(summarize(text, ratio=0.1, words = 10))"
   ]
  },
  {
   "cell_type": "markdown",
   "id": "719650aa",
   "metadata": {},
   "source": [
    "## 회고\n",
    "- 가장 마지막 부분에서 추상적 요약과 추출적 요약을 비교해봄. \n",
    "    - 추상적 요약 : 전처리 ~ 원문과 예측 요약 비교 까지. 전처리를 진행하고 모델 설계 후 학습을 한 뒤 그 결과로 예측함.\n",
    "    - 추출적 요약 summa를 사용해서 간단하게 진행함.\n",
    "    -> 비교 후, 뉴스 기사와 같은 키워드가 중요한 경우는 summa를 통해 간단히 추출 요약하는것이 가능해 보임. 하지만 소설이나 문학과 같은 명확하지 않은 말로 기술되는 경우 추상적 요약을 하는 것이 더 적합해보임. \n",
    "    \n",
    "    - 두 경우 모두 핵심 단어에 대해 포함함을 위에서 확인"
   ]
  },
  {
   "attachments": {
    "image-2.png": {
     "image/png": "[encoded data removed]"
    },
    "image.png": {
     "image/png": "[encoded data removed]"
    }
   },
   "cell_type": "markdown",
   "id": "29f53ebe",
   "metadata": {},
   "source": [
    "## 추가, chat gpt(추상적 요약)와 summa(추출적 요약) 비교\n",
    "- summa\n",
    ": 주어 동사 접속사 등 어느정도 일부를 발췌하여 문법적으로 맞는 문장을 냈으나, headline이라 보기는 어렵고 text와 유사한 문장을 냄.\n",
    "![image.png](attachment:image.png)\n",
    "- chat gpt\n",
    ": headline과 비슷한 형태로 요약을 함\n",
    "![image-2.png](attachment:image-2.png)"
   ]
  },
  {
   "cell_type": "code",
   "execution_count": null,
   "id": "0bf100d2",
   "metadata": {},
   "outputs": [],
   "source": []
  }
 ],
 "metadata": {
  "kernelspec": {
   "display_name": "Python 3 (ipykernel)",
   "language": "python",
   "name": "python3"
  },
  "language_info": {
   "codemirror_mode": {
    "name": "ipython",
    "version": 3
   },
   "file_extension": ".py",
   "mimetype": "text/x-python",
   "name": "python",
   "nbconvert_exporter": "python",
   "pygments_lexer": "ipython3",
   "version": "3.9.7"
  }
 },
 "nbformat": 4,
 "nbformat_minor": 5
}
